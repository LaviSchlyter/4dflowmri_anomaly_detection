{
 "cells": [
  {
   "cell_type": "code",
   "execution_count": 1,
   "metadata": {},
   "outputs": [],
   "source": [
    "import numpy as np\n",
    "import matplotlib.pyplot as plt\n",
    "from sklearn.metrics import roc_curve, auc\n",
    "import os\n",
    "import sys\n",
    "import torch\n",
    "import h5py\n",
    "import glob\n",
    "import random\n",
    "\n",
    "from helpers.utils import make_dir_safely\n",
    "\n",
    "# Import models\n",
    "from models.vae import VAE, VAE_convT, VAE_linear\n",
    "sys.path.append('/usr/bmicnas02/data-biwi-01/jeremy_students/lschlyter/4dflowmri_anomaly_detection/helpers')\n",
    "from batches import plot_batch_3d_complete, plot_batch_3d_complete_1_chan \n",
    "\n",
    "\n",
    "# Download the methods for generating synthetic data\n",
    "from helpers.synthetic_anomalies import generate_noise, create_cube_mask,\\\n",
    "                         generate_deformation_chan, create_hollow_noise\n",
    "\n",
    "\n",
    "\n",
    "# For the patch blending we import from another directory\n",
    "sys.path.append('/usr/bmicnas02/data-biwi-01/jeremy_students/lschlyter/git_repos/many-tasks-make-light-work')\n",
    "from multitask_method.tasks.patch_blending_task import TestPatchInterpolationBlender, \\\n",
    "    TestPoissonImageEditingMixedGradBlender, TestPoissonImageEditingSourceGradBlender\n",
    "\n",
    "from multitask_method.tasks.labelling import FlippedGaussianLabeller\n",
    "\n",
    "\n",
    "labeller = FlippedGaussianLabeller(0.2)\n",
    "\n",
    "from helpers.visualization import plot_batches_SSL"
   ]
  },
  {
   "cell_type": "code",
   "execution_count": 2,
   "metadata": {},
   "outputs": [
    {
     "name": "stdout",
     "output_type": "stream",
     "text": [
      "cpu\n"
     ]
    },
    {
     "name": "stderr",
     "output_type": "stream",
     "text": [
      "/scratch_net/biwidl203/lschlyter/anaconda3/envs/vtk_wrap/lib/python3.10/site-packages/torch/cuda/__init__.py:88: UserWarning: CUDA initialization: The NVIDIA driver on your system is too old (found version 10010). Please update your GPU driver by downloading and installing a new version from the URL: http://www.nvidia.com/Download/index.aspx Alternatively, go to: https://pytorch.org to install a PyTorch version that has been compiled with your version of the CUDA driver. (Triggered internally at ../c10/cuda/CUDAFunctions.cpp:109.)\n",
      "  return torch._C._cuda_getDeviceCount() > 0\n"
     ]
    },
    {
     "data": {
      "text/plain": [
       "((3136, 32, 32, 24, 4), (3136, 32, 32, 24, 4), (128, 32, 32, 24, 4))"
      ]
     },
     "execution_count": 2,
     "metadata": {},
     "output_type": "execute_result"
    }
   ],
   "source": [
    "device = torch.device(\"cuda:0\" if torch.cuda.is_available() else \"cpu\")\n",
    "print(device)\n",
    "# Load the data\n",
    "data_dir = '/usr/bmicnas02/data-biwi-01/jeremy_students/lschlyter/4dflowmri_anomaly_detection/data'\n",
    "data_vl = h5py.File(os.path.join(data_dir, 'masked_slice_anomalies_images_from_35_to_42.hdf5'), 'r')\n",
    "images_vl  = data_vl['images']\n",
    "labels_vl = data_vl['masks']\n",
    "\n",
    "# Load the two healthy subjects not seen during training/validation\n",
    "data_vl_unseen = h5py.File(os.path.join(data_dir, 'val_masked_sliced_images_from_42_to_44.hdf5'), 'r')\n",
    "images_vl_unseen = data_vl_unseen['sliced_images_val']\n",
    "images_vl.shape, labels_vl.shape, images_vl_unseen.shape"
   ]
  },
  {
   "cell_type": "code",
   "execution_count": 79,
   "metadata": {},
   "outputs": [
    {
     "name": "stdout",
     "output_type": "stream",
     "text": [
      "/usr/bmicnas02/data-biwi-01/jeremy_students/lschlyter/4dflowmri_anomaly_detection/logs/vae_convT/masked_slice/20230620-1420_vae_convT_interpolation_val_masked_slice_SSL_lr5.000e-03-e150-bs8-gf_dim8-daFalse/20230620-1420_vae_convT_interpolation_val_masked_slice_SSL_lr5.000e-03-e150-bs8-gf_dim8-daFalse.ckpt-best\n"
     ]
    },
    {
     "data": {
      "text/plain": [
       "<All keys matched successfully>"
      ]
     },
     "execution_count": 79,
     "metadata": {},
     "output_type": "execute_result"
    }
   ],
   "source": [
    "# Find the best model\n",
    "models_dir = \"/usr/bmicnas02/data-biwi-01/jeremy_students/lschlyter/4dflowmri_anomaly_detection/logs\"\n",
    "#model_rel_path = \"vae/masked_slice/20230620-1105_vae_masked_slice_SSL_lr1.000e-03_scheduler-e600-bs8-gf_dim8-daFalse\"\n",
    "#model_rel_path = \"vae_convT/masked_slice/20230620-1427_vae_convT_interpolation_val_masked_slice_SSL_lr5.000e-03_scheduler-e150-bs8-gf_dim8-daFalse\"\n",
    "#model_rel_path = \"vae_convT/masked_slice/20230619-1947_vae_convT_masked_slice_SSL_lr1.000e-03-e350-bs8-gf_dim8-daFalse\"\n",
    "model_rel_path = \"vae_convT/masked_slice/20230620-1420_vae_convT_interpolation_val_masked_slice_SSL_lr5.000e-03-e150-bs8-gf_dim8-daFalse\"\n",
    "model_path = os.path.join(models_dir, model_rel_path)\n",
    "pattern = os.path.join(model_path, '*best*')\n",
    "matching_files = glob.glob(pattern)\n",
    "best_model_path = matching_files[0]\n",
    "\n",
    "print(best_model_path)\n",
    "\n",
    "\n",
    "\n",
    "model = model_rel_path.split('/')[0]\n",
    "preprocess_method = model_rel_path.split('/')[1]\n",
    "model_name = model_rel_path.split('/')[-1]\n",
    "\n",
    "results_dir_val = 'Results/Evaluation/' + model + '/' + preprocess_method + '/' + model_name + '/' + 'validation'\n",
    "results_dir_val_unseen = 'Results/Evaluation/' + model + '/' + preprocess_method + '/' + model_name + '/' + 'validation_unseen'\n",
    "make_dir_safely(results_dir_val)\n",
    "make_dir_safely(results_dir_val_unseen)\n",
    "\n",
    "# Load the model\n",
    "if model == 'vae':\n",
    "    model = VAE(in_channels=4, out_channels=1, gf_dim=8).to(device)\n",
    "elif model == 'vae_convT':\n",
    "    model = VAE_convT(in_channels=4, out_channels=1, gf_dim=8).to(device)\n",
    "\n",
    "\n",
    "model.load_state_dict(torch.load(best_model_path, map_location=device))"
   ]
  },
  {
   "cell_type": "code",
   "execution_count": 80,
   "metadata": {},
   "outputs": [],
   "source": [
    "same_indices = True\n",
    "if same_indices:\n",
    "    random.seed(1)\n",
    "n_indices = 320\n",
    "indices = random.sample(range(len(images_vl) ), n_indices)\n",
    "indices = np.sort(indices)"
   ]
  },
  {
   "cell_type": "code",
   "execution_count": 81,
   "metadata": {},
   "outputs": [
    {
     "data": {
      "text/plain": [
       "(torch.Size([320, 4, 32, 32, 24]), torch.Size([320, 4, 32, 32, 24]))"
      ]
     },
     "execution_count": 81,
     "metadata": {},
     "output_type": "execute_result"
    }
   ],
   "source": [
    "input_images_vl = torch.from_numpy(images_vl[indices]).transpose(1,4).transpose(2,4).transpose(3,4).to(device)\n",
    "input_labels_vl = torch.from_numpy(labels_vl[indices]).transpose(1,4).transpose(2,4).transpose(3,4).to(device)\n",
    "\n",
    "batch_size = 32\n",
    "input_images_vl.shape, input_labels_vl.shape"
   ]
  },
  {
   "cell_type": "raw",
   "metadata": {},
   "source": [
    "\n",
    "start_idx = 0\n",
    "end_idx = batch_size\n",
    "\n",
    "while end_idx <= n_indices:\n",
    "    batch = input_images_vl[start_idx:end_idx]\n",
    "    labels = input_labels_vl[start_idx:end_idx]\n",
    "    with torch.no_grad():\n",
    "        output_dict = model(batch)\n",
    "        output_images = torch.sigmoid(output_dict['decoder_output'])\n",
    "    output_images = output_images.transpose(1,2).transpose(2,3).transpose(3,4).cpu().detach().numpy()\n",
    "    labels = labels.transpose(1,2).transpose(2,3).transpose(3,4).cpu().detach().numpy()\n",
    "    batch = batch.transpose(1,2).transpose(2,3).transpose(3,4).cpu().detach().numpy()\n",
    "    \n",
    "    #plot_batches_SSL(batch, output_images, labels, channel_to_show = 1,every_x_time_step=1, out_path=os.path.join(results_dir_val, 'batch_{}_to_{}.png'.format(start_idx, end_idx)))\n",
    "    start_idx += batch_size\n",
    "    end_idx += batch_size\n"
   ]
  },
  {
   "cell_type": "code",
   "execution_count": 82,
   "metadata": {},
   "outputs": [],
   "source": [
    "deformation_list = ['None', 'noisy', 'deformation', 'hollow_circle', 'patch_interpolation', 'poisson_with_mixing', 'poisson_without_mixing']\n",
    "noise_generator = generate_noise(batch_size = batch_size,mean_range = (0, 0.1), std_range = (0, 0.2), n_samples= images_vl_unseen.shape[0])"
   ]
  },
  {
   "cell_type": "code",
   "execution_count": 83,
   "metadata": {},
   "outputs": [],
   "source": [
    "def apply_deformation(def_function, all_images, batch, mask_blending):\n",
    "    random_indices = random.sample(range(len(all_images)), batch_size)\n",
    "    random_indices = np.sort(random_indices)\n",
    "    images_for_blending = all_images[random_indices]\n",
    "    batch = np.transpose(batch, (0,4,1,2,3))\n",
    "    images_for_blending = np.transpose(images_for_blending, (0,4,1,2,3))\n",
    "    \n",
    "    blended_images = []\n",
    "    anomaly_masks = []\n",
    "    for input_, blender in zip(batch, images_for_blending):\n",
    "        \n",
    "        blending_function = def_function(labeller, blender, mask_blending)\n",
    "        blended_image, anomaly_mask = blending_function(input_, mask_blending)\n",
    "        # Expand dims to add batch dimension\n",
    "        blended_image = np.expand_dims(blended_image, axis=0)\n",
    "        anomaly_mask = np.expand_dims(anomaly_mask, axis=0)\n",
    "        blended_images.append(blended_image)\n",
    "        anomaly_masks.append(anomaly_mask)\n",
    "    batch = np.concatenate(blended_images, axis = 0)    \n",
    "    labels = np.concatenate(anomaly_masks, axis = 0)\n",
    "    batch = np.transpose(batch, (0,2,3,4,1))\n",
    "    labels = np.expand_dims(labels, axis = -1)\n",
    "    return batch, labels"
   ]
  },
  {
   "cell_type": "code",
   "execution_count": 84,
   "metadata": {},
   "outputs": [
    {
     "name": "stdout",
     "output_type": "stream",
     "text": [
      "None\n",
      "noisy\n",
      "deformation\n",
      "hollow_circle\n",
      "patch_interpolation\n",
      "poisson_with_mixing\n",
      "poisson_without_mixing\n"
     ]
    }
   ],
   "source": [
    "def debug():    \n",
    "    start_idx = 0\n",
    "    end_idx = batch_size\n",
    "    mask_shape = [32, 32, 24]\n",
    "    mask_blending = create_cube_mask(mask_shape, WH= 20, depth= 12,  inside=True).astype(np.bool_)\n",
    "    for deformation in deformation_list:\n",
    "        print(deformation)\n",
    "        while end_idx <= images_vl_unseen.shape[0]:\n",
    "            \n",
    "            batch = images_vl_unseen[start_idx:end_idx]\n",
    "            \n",
    "            if deformation == 'None':\n",
    "                labels = np.zeros(batch.shape)\n",
    "\n",
    "            elif deformation == 'noisy':\n",
    "                mean, std, noise = next(noise_generator)\n",
    "                noise = noise/[10,1,1,1]\n",
    "                batch = batch + noise\n",
    "                labels = noise\n",
    "\n",
    "            elif deformation == 'deformation':\n",
    "                batch, labels = generate_deformation_chan(batch)\n",
    "\n",
    "            elif deformation == 'hollow_circle':\n",
    "                labels = create_hollow_noise(batch, mean=mean, std=std)\n",
    "                \n",
    "                batch = batch + labels\n",
    "            elif deformation == 'patch_interpolation':\n",
    "                batch, labels = apply_deformation(TestPatchInterpolationBlender, images_vl_unseen, batch, mask_blending)\n",
    "            elif deformation == 'poisson_with_mixing':\n",
    "                batch, labels = apply_deformation(TestPoissonImageEditingMixedGradBlender, images_vl_unseen, batch, mask_blending)\n",
    "            elif deformation == 'poisson_without_mixing':\n",
    "                batch, labels = apply_deformation(TestPoissonImageEditingSourceGradBlender, images_vl_unseen, batch, mask_blending)\n",
    "                \n",
    "            else:\n",
    "                raise NotImplementedError\n",
    "            \n",
    "            if labels.shape[-1] == 1:\n",
    "                labels = np.repeat(labels, 4, axis=-1)\n",
    "            batch = torch.from_numpy(batch).transpose(1,4).transpose(2,4).transpose(3,4).float().to(device)\n",
    "\n",
    "            with torch.no_grad():\n",
    "                output_dict = model(batch)\n",
    "                output_images = torch.sigmoid(output_dict['decoder_output'])\n",
    "            output_images = output_images.transpose(1,2).transpose(2,3).transpose(3,4).cpu().detach().numpy()\n",
    "            labels = labels#.transpose(1,2).transpose(2,3).transpose(3,4).cpu().detach().numpy()\n",
    "            batch = batch.transpose(1,2).transpose(2,3).transpose(3,4).cpu().detach().numpy()\n",
    "            channel_to_show = 1\n",
    "            plot_batches_SSL(batch, output_images, labels, channel_to_show = channel_to_show, every_x_time_step=1, out_path=os.path.join(results_dir_val_unseen, 'batch_{}_to_{}_{}_c_{}.png'.format(start_idx, end_idx, deformation, channel_to_show)))\n",
    "            start_idx += batch_size\n",
    "            end_idx += batch_size\n",
    "        start_idx = 0\n",
    "        end_idx = batch_size\n",
    "\n",
    "debug()"
   ]
  },
  {
   "cell_type": "code",
   "execution_count": 2,
   "metadata": {},
   "outputs": [],
   "source": [
    "\n",
    "healthy_rmse = [0.019191295257769525, 0.01684183336328715, 0.015168259968049824, 0.014168259968049824, 0.0150]\n",
    "\n",
    "unhealthy_rmse= [0.191295257769525,0.02541162414642969, 0.04234149342774374,0.03541162414642969, 0.041, 0.0140]\n"
   ]
  },
  {
   "cell_type": "code",
   "execution_count": 3,
   "metadata": {},
   "outputs": [],
   "source": [
    "scores = np.concatenate([unhealthy_rmse, healthy_rmse])\n",
    "labels = np.concatenate([np.ones(len(unhealthy_rmse)), np.zeros(len(healthy_rmse))])\n"
   ]
  },
  {
   "cell_type": "code",
   "execution_count": 4,
   "metadata": {},
   "outputs": [],
   "source": [
    "fpr, tpr, thresholds = roc_curve(labels, scores)\n"
   ]
  },
  {
   "cell_type": "code",
   "execution_count": 5,
   "metadata": {},
   "outputs": [
    {
     "data": {
      "text/plain": [
       "0.8333333333333334"
      ]
     },
     "execution_count": 5,
     "metadata": {},
     "output_type": "execute_result"
    }
   ],
   "source": [
    "auc_score = auc(fpr, tpr)\n",
    "\n",
    "auc_score"
   ]
  },
  {
   "cell_type": "code",
   "execution_count": 6,
   "metadata": {},
   "outputs": [
    {
     "data": {
      "image/png": "[encoded data removed]",
      "text/plain": [
       "<Figure size 640x480 with 1 Axes>"
      ]
     },
     "metadata": {},
     "output_type": "display_data"
    }
   ],
   "source": [
    "plt.figure()\n",
    "plt.plot(fpr, tpr, color='blue', label=f'AUC = {auc_score:.2f}')\n",
    "plt.plot([0, 1], [0, 1], color='black', linestyle='--')\n",
    "plt.xlabel('False Positive Rate')\n",
    "plt.ylabel('True Positive Rate')\n",
    "plt.title('Receiver Operating Characteristic (ROC) Curve')\n",
    "plt.legend()\n",
    "plt.show()\n"
   ]
  },
  {
   "cell_type": "code",
   "execution_count": null,
   "metadata": {},
   "outputs": [],
   "source": []
  },
  {
   "cell_type": "code",
   "execution_count": null,
   "metadata": {},
   "outputs": [],
   "source": []
  },
  {
   "cell_type": "code",
   "execution_count": null,
   "metadata": {},
   "outputs": [],
   "source": []
  }
 ],
 "metadata": {
  "kernelspec": {
   "display_name": "vtk_wrap",
   "language": "python",
   "name": "python3"
  },
  "language_info": {
   "codemirror_mode": {
    "name": "ipython",
    "version": 3
   },
   "file_extension": ".py",
   "mimetype": "text/x-python",
   "name": "python",
   "nbconvert_exporter": "python",
   "pygments_lexer": "ipython3",
   "version": "3.10.9"
  },
  "orig_nbformat": 4
 },
 "nbformat": 4,
 "nbformat_minor": 2
}
