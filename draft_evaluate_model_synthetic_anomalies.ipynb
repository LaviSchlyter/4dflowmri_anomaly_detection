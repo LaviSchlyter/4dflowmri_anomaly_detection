{
 "cells": [
  {
   "attachments": {},
   "cell_type": "markdown",
   "metadata": {},
   "source": [
    "### In  this notebook we create and evaluate models using synthetic data\n",
    "\n",
    "[Creating deformation dataset](#creating-the-deformation-dataset)\n",
    "\n",
    "[Inference on synthetic data](#inference-using-synthetic-anomalaous-data)"
   ]
  },
  {
   "cell_type": "code",
   "execution_count": 1,
   "metadata": {},
   "outputs": [],
   "source": [
    "# General imports\n",
    "\n",
    "import os\n",
    "import copy\n",
    "import sys\n",
    "import numpy as np\n",
    "import matplotlib.pyplot as plt\n",
    "import datetime\n",
    "import h5py\n",
    "import torch\n",
    "import re\n",
    "\n",
    "# ============================================\n",
    "# Specific imports\n",
    "from sklearn.metrics import roc_curve, auc\n",
    "from scipy.interpolate import RegularGridInterpolator\n",
    "\n",
    "# ============================================\n",
    "# Helper functions\n",
    "from helpers import data_bern_numpy_to_preprocessed_hdf5\n",
    "from helpers import data_bern_numpy_to_hdf5\n",
    "from helpers.utils import make_dir_safely\n",
    "from helpers.run import load_model\n",
    "from helpers.data_loader import load_data\n",
    "from helpers.metrics import RMSE\n",
    "from helpers.batches import plot_batch_3d_complete\n",
    "\n",
    "# ============================================\n",
    "# Import model\n",
    "from models.vae import VAE"
   ]
  },
  {
   "cell_type": "code",
   "execution_count": 2,
   "metadata": {},
   "outputs": [],
   "source": [
    "def generate_noise(batch_size, mean_range = (0, 0.1), std_range = (0, 0.2), n_samples = 30):\n",
    "    \"\"\"\n",
    "    Generates noise to be added to the images\n",
    "    :param batch_size: number of images in the batch\n",
    "    :param mean_range: range of means for the normal distribution\n",
    "    :param std_range: range of standard deviations for the normal distribution\n",
    "    :return: mean, std, noise\n",
    "    \"\"\"\n",
    "    means = np.random.uniform(mean_range[0], mean_range[1], n_samples)\n",
    "    stds = np.random.uniform(std_range[0], std_range[1], n_samples)\n",
    "    #noise_parameters = [(0.0, 0.02), (0.05, 0.05),(0.1, 0.1),(0.1, 0.2),(0.1, 0.3), (0.2, 0.1), (0.2, 0.2) ,(0.2, 0.4), (0.3, 0.1), (0.3, 0.2), (0.3, 0.3)] # additive noise to be tested, each tuple has mean and stdev for the normal distribution\n",
    "\n",
    "    for (mean, std) in zip(means, stds):\n",
    "\n",
    "        # Add some random noise to the image\n",
    "        part_noise = np.random.normal(mean, std, (batch_size, 5, 5, 24, 4))\n",
    "        full_noise = np.zeros((batch_size, 32, 32, 24, 4))\n",
    "        full_noise[:, 14:19, 14:19,:, :] = part_noise\n",
    "\n",
    "        yield mean, std, full_noise"
   ]
  },
  {
   "cell_type": "code",
   "execution_count": 3,
   "metadata": {},
   "outputs": [],
   "source": [
    "def calc_distance(xyz0 = [], xyz1 = []):\n",
    "    delta_OX = (xyz0[0] - xyz1[0])**2\n",
    "    delta_OY = (xyz0[1] - xyz1[1])**2\n",
    "    delta_OZ = (xyz0[2] - xyz1[2])**2\n",
    "    return (delta_OX+delta_OY+delta_OZ)**0.5 \n",
    "\n",
    "def create_mask(im,center,width):\n",
    "    dims = np.shape(im)\n",
    "    mask = np.zeros_like(im)\n",
    "    for i in range(dims[0]):\n",
    "        for j in range(dims[1]):\n",
    "            for k in range(dims[2]):\n",
    "                dist_i = calc_distance([i,j,k],center)\n",
    "                if dist_i<width:\n",
    "                    mask[i,j,k]=1\n",
    "    return mask\n",
    "\n",
    "\n",
    "def create_deformation(im,center,width,polarity=1):\n",
    "    dims = np.array(np.shape(im))\n",
    "    mask = np.zeros_like(im)\n",
    "    \n",
    "    center = np.array(center)\n",
    "    xv,yv,zv = np.arange(dims[0]),np.arange(dims[1]),np.arange(dims[2])\n",
    "    interp_samp = RegularGridInterpolator((xv, yv, zv), im)\n",
    "    \n",
    "    for i in range(dims[0]):\n",
    "        for j in range(dims[1]):\n",
    "            for k in range(dims[2]):\n",
    "                dist_i = calc_distance([i,j,k],center)\n",
    "                displacement_i = (dist_i/width)**2\n",
    "                \n",
    "                if displacement_i < 1.:\n",
    "                    #within width\n",
    "                    if polarity > 0:\n",
    "                        #push outward\n",
    "                        diff_i = np.array([i,j,k])-center\n",
    "                        new_coor =  center + diff_i*displacement_i\n",
    "                        new_coor = np.clip(new_coor,(0,0,0),dims-1)\n",
    "                        mask[i,j,k]= interp_samp(new_coor)\n",
    "                        \n",
    "                    else:\n",
    "                        #pull inward\n",
    "                        cur_coor = np.array([i,j,k])\n",
    "                        diff_i = cur_coor-center\n",
    "                        new_coor = cur_coor + diff_i*(1-displacement_i)\n",
    "                        new_coor = np.clip(new_coor,(0,0,0),dims-1)\n",
    "                        mask[i,j,k]= interp_samp(new_coor)\n",
    "                else:\n",
    "                    mask[i,j,k] = im[i,j,k]\n",
    "    return mask\n",
    "def create_deformation_chan(im,center,width,polarity=1):\n",
    "    #print('im shape: ',im.shape)\n",
    "    dims = np.array(np.shape(im))\n",
    "    mask = np.zeros_like(im)\n",
    "    \n",
    "    center = np.array(center)\n",
    "    wv,xv,yv,zv = np.arange(dims[0]),np.arange(dims[1]),np.arange(dims[2]),np.arange(dims[3])\n",
    "    interp_samp = RegularGridInterpolator((wv, xv, yv, zv), im)\n",
    "    \n",
    "    for i in range(dims[1]):\n",
    "        for j in range(dims[2]):\n",
    "            for k in range(dims[3]):\n",
    "                dist_i = calc_distance([i,j,k],center)\n",
    "                displacement_i = (dist_i/width)**2\n",
    "                \n",
    "                if displacement_i < 1.:\n",
    "                    #within width\n",
    "                    if polarity > 0:\n",
    "                        #push outward\n",
    "                        diff_i = np.array([i,j,k])-center\n",
    "                        new_coor =  center + diff_i*displacement_i\n",
    "                        \n",
    "                    else:\n",
    "                        #pull inward\n",
    "                        cur_coor = np.array([i,j,k])\n",
    "                        diff_i = cur_coor-center\n",
    "                        new_coor = cur_coor + diff_i*(1-displacement_i)\n",
    "                        \n",
    "                    new_coor = np.clip(new_coor,np.zeros(len(dims[1:])),dims[1:]-1)\n",
    "                    new_coor_chan = np.tile(np.arange(dims[0]),(len(dims),1)).T\n",
    "                    new_coor_chan[:,1:] = new_coor\n",
    "                    mask[:,i,j,k]= interp_samp(new_coor_chan)\n",
    "                else:\n",
    "                    mask[:,i,j,k] = im[:,i,j,k]\n",
    "    return mask\n",
    "\n",
    "def generate_deformation_chan(im):\n",
    "    im2 = copy.deepcopy(im)\n",
    "    masks = np.zeros_like(im)\n",
    "\n",
    "    for batch_i in range(im.shape[0]):\n",
    "        #print('batch_i: ',batch_i)\n",
    "        im_in = im2[batch_i,:,:,:,:]\n",
    "        dims = np.array(np.shape(im_in))\n",
    "\n",
    "        # For the third dimesnion (time) we want the anomalies to be in the start\n",
    "        core = dims[:3]/[4,4,4] #width of core region\n",
    "        offset = (dims[:3]-core)/[2,2,18]#offset to center core\n",
    "        \n",
    "        \"\"\"\n",
    "        core = dims[1:]/4 #width of core region\n",
    "        offset = (dims[1:]-core)/2#offset to center core\n",
    "        \"\"\"\n",
    "        min_width = np.round(0.05*dims[0])\n",
    "        max_width = np.round(0.2*dims[0])\n",
    "        #min_width = 10\n",
    "        #max_width = 20\n",
    "\n",
    "        sphere_center = []\n",
    "        sphere_width = []\n",
    "\n",
    "        for i,_ in enumerate(dims[:3]):\n",
    "            sphere_center.append(np.random.randint(offset[i],offset[i]+core[i]))\n",
    "\n",
    "\n",
    "        sphere_width = np.random.randint(min_width,max_width)\n",
    "        mask_i = create_mask(im_in,sphere_center,sphere_width)\n",
    "        #print('sphere_center: ',sphere_center)\n",
    "        #print('sphere_width: ',sphere_width)\n",
    "        # Put channels first\n",
    "        im_in = np.transpose(im_in, (3, 0, 1, 2))\n",
    "        sphere_polarity = 1\n",
    "        if np.random.randint(2):#random sign\n",
    "            sphere_polarity *= -1\n",
    "        out_image = create_deformation_chan(im_in,sphere_center,sphere_width,sphere_polarity)\n",
    "        #[c, w, h, t]\n",
    "        # Put channels last\n",
    "        out_image = np.transpose(out_image, (1, 2, 3, 0))\n",
    "        im2[batch_i,:,:,:,:] = out_image\n",
    "        masks[batch_i,:,:,:,:] = mask_i\n",
    "\n",
    "    return im2, masks\n",
    "        \n",
    "        \n",
    "        # \n",
    "def generate_deformation(im, save_viz=False, subject_idx=0, only_one_channel=False):\n",
    "    channels_range = range(im.shape[-1])\n",
    "    if only_one_channel:\n",
    "        channels_range = [1]\n",
    "    # Very inneficient way of doing this, but it works\n",
    "    for batch_i in range(im.shape[0]):\n",
    "        for channel in channels_range:\n",
    "\n",
    "            #if channel ==1 and batch_i == 0 and subject_idx ==0:\n",
    "            #    fig, axs = plt.subplots(3, im.shape[0], figsize=(17, 7))\n",
    "            #    im_original = im[batch_i,:,:,:,channel].copy()\n",
    "            im_in = im[batch_i,:,:,:,channel]\n",
    "            dims = np.array(np.shape(im_in))\n",
    "            core = dims/4 #width of core region\n",
    "            offset = (dims-core)/2#offset to center core\n",
    "            #print('dims: ',dims, ' core: ',core, ' offset: ',offset)\n",
    "\n",
    "            min_width = np.round(0.05*dims[0])\n",
    "            max_width = np.round(0.2*dims[0])\n",
    "\n",
    "            sphere_center = []\n",
    "            sphere_width = []\n",
    "\n",
    "            for i,_ in enumerate(dims[:3]):\n",
    "                sphere_center.append(np.random.randint(offset[i],offset[i]+core[i]))\n",
    "            sphere_width = np.random.randint(min_width,max_width)\n",
    "            mask_i = create_mask(im_in,sphere_center,sphere_width)\n",
    "            sphere_polarity = 1\n",
    "            if np.random.randint(2):#random sign\n",
    "                sphere_polarity *= -1\n",
    "            t = sphere_center[2]\n",
    "            # Apply deformation\n",
    "            im[batch_i,:,:,:,channel] = create_deformation(im_in,sphere_center,sphere_width,sphere_polarity)\n",
    "            \"\"\"\n",
    "            if channel == 1 and save_viz and subject_idx == 0:\n",
    "                \n",
    "                axs[0, batch_i].imshow(im_original[:,:,t], vmin=-0.5, vmax=0.5)\n",
    "                axs[0, batch_i].set_title('Original')\n",
    "                axs[1, batch_i].imshow(mask_i[:,:,t], vmin=-0.5, vmax=0.5)\n",
    "                axs[1, batch_i].set_title('Mask')\n",
    "                axs[2, batch_i].imshow(im[batch_i,:,:,:,channel][:,:,t], vmin=-0.5, vmax=0.5)\n",
    "                axs[2, batch_i].set_title('Deformed')\n",
    "\n",
    "            \"\"\"\n",
    "                \n",
    "    #if save_viz and subject_idx == 0:\n",
    "    #    plt.savefig(os.path.join(project_code_root, 'Results/Evaluation/' + config['model'] + '/' + config['preprocess_method'] + '/' + config['model_name'] + '/' + 'deformation_example.png'))\n",
    "    #    plt.close()\n",
    "                \n",
    "\n",
    "    return im, mask_i\n",
    "\n"
   ]
  },
  {
   "cell_type": "markdown",
   "metadata": {},
   "source": [
    "### Creating the deformation dataset\n",
    "\n",
    "Since the deformation applications take time, we instead create a dataset with the deformations and save both the deformed images and the mask\n",
    "\n",
    "The deformations are done on the two validation images which were not seen during validation or training of the model "
   ]
  },
  {
   "cell_type": "code",
   "execution_count": 4,
   "metadata": {},
   "outputs": [
    {
     "data": {
      "text/plain": [
       "(128, 32, 32, 24, 4)"
      ]
     },
     "execution_count": 4,
     "metadata": {},
     "output_type": "execute_result"
    }
   ],
   "source": [
    "# Data on which we create deformation\n",
    "data_path = '/usr/bmicnas02/data-biwi-01/jeremy_students/lschlyter/4dflowmri_anomaly_detection/data/'\n",
    "\n",
    "syn_id_start = 42\n",
    "syn_id_end = 44\n",
    "images_syn = h5py.File(data_path + f'val_masked_sliced_images_from_{syn_id_start}_to_{syn_id_end}.hdf5', 'r')['sliced_images_val']\n",
    "images_syn.shape"
   ]
  },
  {
   "cell_type": "markdown",
   "metadata": {},
   "source": [
    "images_to_generate = 30\n",
    "filepath_out = os.path.join(data_path,f'val_masked_sliced_images_from_{syn_id_start}_to_{syn_id_end}_with_deformations_{images_to_generate}.hdf5')\n",
    "dataset = {}\n",
    "hdf5_file = h5py.File(filepath_out, mode='w')\n",
    "dataset['deformation'] = hdf5_file.create_dataset(\"deformation\", (images_to_generate*64, 32, 32, 24, 4), np.float32)\n",
    "dataset['mask'] = hdf5_file.create_dataset(\"mask\", (images_to_generate*64, 32, 32, 24, 4), np.float32)"
   ]
  },
  {
   "cell_type": "code",
   "execution_count": 8,
   "metadata": {},
   "outputs": [],
   "source": [
    "im_in = images_vl[0:2,:,:,:,:]"
   ]
  },
  {
   "cell_type": "code",
   "execution_count": 9,
   "metadata": {},
   "outputs": [],
   "source": [
    "out_images, masks = generate_deformation_chan(im_in)"
   ]
  },
  {
   "cell_type": "code",
   "execution_count": 11,
   "metadata": {},
   "outputs": [
    {
     "data": {
      "text/plain": [
       "(2, 32, 32, 24, 4)"
      ]
     },
     "execution_count": 11,
     "metadata": {},
     "output_type": "execute_result"
    }
   ],
   "source": [
    "out_images.shape"
   ]
  },
  {
   "cell_type": "code",
   "execution_count": null,
   "metadata": {},
   "outputs": [
    {
     "data": {
      "text/plain": [
       "{(0, 0),\n",
       " (0, 1),\n",
       " (0, 2),\n",
       " (0, 3),\n",
       " (0, 4),\n",
       " (0, 5),\n",
       " (0, 6),\n",
       " (0, 7),\n",
       " (0, 8),\n",
       " (1, 0),\n",
       " (1, 1),\n",
       " (1, 2),\n",
       " (1, 3),\n",
       " (1, 4),\n",
       " (1, 5)}"
      ]
     },
     "execution_count": 82,
     "metadata": {},
     "output_type": "execute_result"
    }
   ],
   "source": [
    "set(zip(np.where(masks != 0)[0], np.where(masks != 0)[3]))"
   ]
  },
  {
   "attachments": {},
   "cell_type": "markdown",
   "metadata": {},
   "source": [
    "### Inference using synthetic anomalaous data"
   ]
  },
  {
   "cell_type": "code",
   "execution_count": 6,
   "metadata": {},
   "outputs": [
    {
     "data": {
      "text/plain": [
       "((128, 32, 32, 24, 4), (128, 32, 32, 24, 4), (448, 32, 32, 24, 4))"
      ]
     },
     "execution_count": 6,
     "metadata": {},
     "output_type": "execute_result"
    }
   ],
   "source": [
    "# Load data\n",
    "val_id_start = 42\n",
    "val_id_end = 44\n",
    "\n",
    "syn_id_start = 42\n",
    "syn_id_end = 44\n",
    "\n",
    "\n",
    "images_vl = h5py.File(data_path + f'val_masked_sliced_images_from_{val_id_start}_to_{val_id_end}.hdf5', 'r')['sliced_images_val']\n",
    "images_syn = h5py.File(data_path + f'val_masked_sliced_images_from_{syn_id_start}_to_{syn_id_end}.hdf5', 'r')['sliced_images_val']\n",
    "# Load the deformaed images TODO\n",
    "\n",
    "# This is the data that was used to train the model\n",
    "val_id_start_tr = 35\n",
    "val_id_end_tr = 42\n",
    "images_vl_in_train = h5py.File(data_path + f'val_masked_sliced_images_from_{val_id_start_tr}_to_{val_id_end_tr}.hdf5', 'r')['sliced_images_val']\n",
    "\n",
    "images_vl.shape, images_syn.shape, images_vl_in_train.shape"
   ]
  },
  {
   "cell_type": "code",
   "execution_count": 7,
   "metadata": {},
   "outputs": [],
   "source": [
    "# Parameters\n",
    "batch_size = 8\n",
    "\n",
    "\n",
    "x_shape = 32\n",
    "y_shape = 32\n",
    "z_shape = 64\n",
    "t_shape = 24\n",
    "n_channels = 4\n",
    "\n",
    "# How many images we want\n",
    "n_syn_images_wanted = 10\n",
    "\n",
    "# How many real images we have\n",
    "n_syn_images = images_syn.shape[0]//z_shape"
   ]
  },
  {
   "cell_type": "code",
   "execution_count": 7,
   "metadata": {},
   "outputs": [
    {
     "name": "stdout",
     "output_type": "stream",
     "text": [
      "Loading VAE model\n"
     ]
    },
    {
     "name": "stderr",
     "output_type": "stream",
     "text": [
      "/scratch_net/biwidl203/lschlyter/anaconda3/envs/vtk_wrap/lib/python3.10/site-packages/torch/cuda/__init__.py:88: UserWarning: CUDA initialization: The NVIDIA driver on your system is too old (found version 10010). Please update your GPU driver by downloading and installing a new version from the URL: http://www.nvidia.com/Download/index.aspx Alternatively, go to: https://pytorch.org to install a PyTorch version that has been compiled with your version of the CUDA driver. (Triggered internally at ../c10/cuda/CUDAFunctions.cpp:109.)\n",
      "  return torch._C._cuda_getDeviceCount() > 0\n"
     ]
    },
    {
     "data": {
      "text/plain": [
       "<All keys matched successfully>"
      ]
     },
     "execution_count": 7,
     "metadata": {},
     "output_type": "execute_result"
    }
   ],
   "source": [
    "# Load model\n",
    "\n",
    "model_name = '20230531-2036_masked_slice_lr5.000e-05-e2000-bs8-zdim2888-daTrue-f100'\n",
    "model = 'vae'\n",
    "preprocess_method = \"masked_slice\"\n",
    "project_code_root = '/usr/bmicnas02/data-biwi-01/jeremy_students/lschlyter/4dflowmri_anomaly_detection/'\n",
    "latest_model_epoch = 760\n",
    "\n",
    "model_directory = '/usr/bmicnas02/data-biwi-01/jeremy_students/lschlyter/4dflowmri_anomaly_detection/logs/vae/masked_slice/20230531-2036_masked_slice_lr5.000e-05-e2000-bs8-zdim2888-daTrue-f100'\n",
    "# Set device\n",
    "device = torch.device('cuda' if torch.cuda.is_available() else 'cpu')\n",
    "if model == 'vae':\n",
    "    print('Loading VAE model')\n",
    "    match = re.search(r'zdim(\\d+)', model_name)\n",
    "    model = VAE(z_dim=match.group(1), in_channels=4, gf_dim=8).to(device)\n",
    "    config_model = 'vae'\n",
    "\n",
    "model_path = os.path.join(project_code_root, model_directory)\n",
    "model.load_state_dict(torch.load(model_path+'/{}.ckpt-{}'.format(model_name, latest_model_epoch), map_location=device))"
   ]
  },
  {
   "attachments": {},
   "cell_type": "markdown",
   "metadata": {},
   "source": [
    "# CAREFUL ! FOR THE DEFORMATION the ones that are not attained by anomaly should be added to healthy samples"
   ]
  },
  {
   "cell_type": "code",
   "execution_count": 78,
   "metadata": {},
   "outputs": [
    {
     "name": "stdout",
     "output_type": "stream",
     "text": [
      "Subject 0 RMSE: 0.02547298155544316 +/- 0.008587703690871919\n",
      "Subject 1 RMSE: 0.02707848359690009 +/- 0.0075947433388965065\n",
      "Subject 2 RMSE: 0.024460239234485925 +/- 0.007415864705226857\n",
      "Subject 3 RMSE: 0.026307058355087065 +/- 0.009717184173903758\n",
      "Subject 4 RMSE: 0.028333293892501388 +/- 0.009004135741618213\n",
      "Subject 5 RMSE: 0.026357457799349504 +/- 0.008991274323343599\n",
      "Subject 6 RMSE: 0.028123542708271998 +/- 0.00754419638548879\n",
      "Subject 7 RMSE: 0.02676526435410172 +/- 0.010708515773805018\n",
      "Subject 8 RMSE: 0.025953027327280626 +/- 0.008482041880266213\n",
      "Subject 9 RMSE: 0.02653707037582838 +/- 0.00940637901736046\n",
      "(10,) (15360,)\n"
     ]
    }
   ],
   "source": [
    "# Generate synthetic anomalies\n",
    "noise_generator = generate_noise(batch_size, n_samples= n_syn_images_wanted* z_shape)\n",
    "anomalous_mean_rmse = []\n",
    "anomalous_rmse = []\n",
    "noisy_mean_rmse = []\n",
    "noisy_rmse = []\n",
    "healthy_deformation_mean_rmse = []\n",
    "healthy_deformation_rmse = []\n",
    "anomalous_deformation_mean_rmse = []\n",
    "anomalous_deformation_rmse = []\n",
    "for which_dataset in ['noisy']:\n",
    "    \n",
    "    all_dataset_mean_rmse = []\n",
    "    all_dataset_rmse = []\n",
    "    for subject in range(n_syn_images_wanted):\n",
    "\n",
    "        # Since we may have less subjects than images to generate, we need to loop over them\n",
    "        subject_id = subject% n_syn_images\n",
    "\n",
    "        # Select subject\n",
    "        \n",
    "        subject_sliced = images_syn[subject_id*z_shape:(subject_id+1)*z_shape,:,:,:,:]\n",
    "        \n",
    "        start_idx =0\n",
    "        end_idx = batch_size\n",
    "        subject_rmse = []\n",
    "        \n",
    "        while end_idx <= z_shape:\n",
    "\n",
    "            # Select slice for batch and run model\n",
    "            subject_sliced_batch = subject_sliced[start_idx:end_idx,:,:,:,:]\n",
    "\n",
    "            if which_dataset == 'noisy':\n",
    "                mean, std, noise = next(noise_generator)\n",
    "                #print(f'Adding noise with mean {mean} and std {std}')\n",
    "                subject_sliced_batch += noise\n",
    "            if which_dataset == 'deformation':\n",
    "                # TODO: Change this, since the dataset will have been created\n",
    "                subject_sliced_batch, mask_batch = generate_deformation(subject_sliced_batch, save_viz=False, subject_idx=subject)\n",
    "                \n",
    "                \n",
    "            # Turn into tensor\n",
    "            subject_sliced_batch = torch.from_numpy(subject_sliced_batch).permute(0,4,1,2,3).to(device)\n",
    "            # Run model\n",
    "            model.eval()\n",
    "            with torch.no_grad():\n",
    "                \n",
    "                output_dict  = model(subject_sliced_batch.float())\n",
    "                reconstruction = output_dict['decoder_output']\n",
    "                if batch_size !=1:\n",
    "                    error = RMSE(subject_sliced_batch, reconstruction, dim=(1,2,3))\n",
    "                subject_rmse.append(error.tolist())     \n",
    "                out_path = os.path.join(project_code_root,'Results/Evaluation/' + config_model + '/' + preprocess_method + '/' + model_name + '/' + which_dataset + '/' + 'Subject_' + str(subject) + '_' + str(start_idx) + '_' + str(end_idx) + '.png')\n",
    "                subject_sliced_batch = subject_sliced_batch.transpose(1,2).transpose(2,3).transpose(3,4).cpu().numpy()\n",
    "                reconstruction = reconstruction.transpose(1,2).transpose(2,3).transpose(3,4).cpu().numpy()\n",
    "                plot_batch_3d_complete(subject_sliced_batch, reconstruction, every_x_time_step=2, out_path= out_path)\n",
    "\n",
    "            # Update indices\n",
    "            start_idx += batch_size\n",
    "            end_idx += batch_size\n",
    "        # We have the rmse of the different slices, compute total rmse and std for subject\n",
    "        subject_rmse = np.array(subject_rmse)\n",
    "        subject_rmse_mean = np.mean(subject_rmse)\n",
    "        subject_rmse_std = np.std(subject_rmse)\n",
    "        print('Subject {} RMSE: {} +/- {}'.format(subject, subject_rmse_mean, subject_rmse_std))\n",
    "        all_dataset_mean_rmse.append(subject_rmse_mean)\n",
    "        all_dataset_rmse.append(subject_rmse)\n",
    "    # End of dataset\n",
    "    all_dataset_mean_rmse = np.array(all_dataset_mean_rmse)\n",
    "    all_dataset_rmse = np.array(all_dataset_rmse)\n",
    "    if which_dataset == 'noisy':\n",
    "        noisy_mean_rmse.append(all_dataset_mean_rmse)\n",
    "        noisy_rmse.append(all_dataset_rmse)\n",
    "    if which_dataset == 'deformation':\n",
    "        deformation_mean_rmse.append(all_dataset_mean_rmse)\n",
    "        deformation_rmse.append(all_dataset_rmse)\n",
    "    dataset_mean_rmse = np.mean(all_dataset_mean_rmse)\n",
    "    dataset_std_rmse = np.std(all_dataset_mean_rmse)\n",
    "    anomalous_mean_rmse.append(all_dataset_mean_rmse)\n",
    "    anomalous_rmse.append(all_dataset_rmse)\n",
    "\n",
    "anomalous_mean_rmse = np.array(anomalous_mean_rmse).flatten()\n",
    "anomalous_rmse = np.array(anomalous_rmse).flatten()\n",
    "noisy_mean_rmse = np.array(noisy_mean_rmse).flatten()\n",
    "noisy_rmse = np.array(noisy_rmse).flatten()\n",
    "deformation_mean_rmse = np.array(deformation_mean_rmse).flatten()\n",
    "deformation_rmse = np.array(deformation_rmse).flatten()\n",
    "    \n",
    "print(anomalous_mean_rmse.shape, anomalous_rmse.shape)\n"
   ]
  },
  {
   "cell_type": "code",
   "execution_count": 79,
   "metadata": {},
   "outputs": [
    {
     "data": {
      "text/plain": [
       "array([0.03166161, 0.03872396, 0.03857511, ..., 0.01288271, 0.01164797,\n",
       "       0.01243539])"
      ]
     },
     "execution_count": 79,
     "metadata": {},
     "output_type": "execute_result"
    }
   ],
   "source": [
    "noisy_rmse"
   ]
  },
  {
   "cell_type": "code",
   "execution_count": 61,
   "metadata": {},
   "outputs": [
    {
     "name": "stdout",
     "output_type": "stream",
     "text": [
      "Subject 0 RMSE: 0.01775774235670724 +/- 0.009892845531495631\n",
      "Subject 1 RMSE: 0.017698558388246965 +/- 0.011193491222940364\n",
      "Subject 2 RMSE: 0.017818605552027595 +/- 0.009981678320752627\n",
      "Subject 3 RMSE: 0.0176784101766998 +/- 0.011217478509341265\n",
      "Subject 4 RMSE: 0.017750370443385084 +/- 0.009703551501620921\n",
      "Subject 5 RMSE: 0.017654815126358397 +/- 0.011173965871645783\n",
      "Subject 6 RMSE: 0.017698776615058403 +/- 0.00976062301126429\n",
      "Subject 7 RMSE: 0.01746511394052656 +/- 0.010715412290777042\n",
      "Subject 8 RMSE: 0.01792566903880773 +/- 0.009984584563187566\n",
      "Subject 9 RMSE: 0.017659814420994735 +/- 0.011107295501514501\n",
      "(10,) (15360,) (10,) (10,) (10,) (10,)\n"
     ]
    },
    {
     "name": "stderr",
     "output_type": "stream",
     "text": [
      "/tmp/ipykernel_23366/4069976726.py:119: VisibleDeprecationWarning: Creating an ndarray from ragged nested sequences (which is a list-or-tuple of lists-or-tuples-or ndarrays with different lengths or shapes) is deprecated. If you meant to do this, you must specify 'dtype=object' when creating the ndarray.\n",
      "  healthy_deformation_rmse = np.array(healthy_deformation_rmse).flatten()\n",
      "/tmp/ipykernel_23366/4069976726.py:121: VisibleDeprecationWarning: Creating an ndarray from ragged nested sequences (which is a list-or-tuple of lists-or-tuples-or ndarrays with different lengths or shapes) is deprecated. If you meant to do this, you must specify 'dtype=object' when creating the ndarray.\n",
      "  anomalous_deformation_rmse = np.array(anomalous_deformation_rmse).flatten()\n"
     ]
    }
   ],
   "source": [
    "\n",
    "# Generate synthetic anomalies\n",
    "noise_generator = generate_noise(batch_size, n_samples= n_syn_images_wanted* z_shape)\n",
    "sick = []\n",
    "not_sick = []\n",
    "anomalous_mean_rmse = []\n",
    "anomalous_rmse = []\n",
    "deformation_rmse = []\n",
    "noisy_mean_rmse = []\n",
    "noisy_rmse = []\n",
    "deformation_mean_rmse = []\n",
    "healthy_deformation_mean_rmse = []\n",
    "healthy_deformation_rmse = []\n",
    "anomalous_deformation_mean_rmse = []\n",
    "anomalous_deformation_rmse = []\n",
    "all_healthy_deformation_mean_rmse = []\n",
    "all_healthy_deformation_rmse = []\n",
    "all_anomalous_deformation_mean_rmse = []\n",
    "all_anomalous_deformation_rmse = []\n",
    "for which_dataset in ['deformation']:\n",
    "    \n",
    "    all_dataset_mean_rmse = []\n",
    "    all_dataset_rmse = []\n",
    "    for subject in range(n_syn_images_wanted):\n",
    "\n",
    "        # Since we may have less subjects than images to generate, we need to loop over them\n",
    "        subject_id = subject% n_syn_images\n",
    "\n",
    "        # Select subject\n",
    "        \n",
    "        subject_sliced = images_syn[subject_id*z_shape:(subject_id+1)*z_shape,:,:,:,:]\n",
    "        \n",
    "        start_idx =0\n",
    "        end_idx = batch_size\n",
    "        subject_rmse = []\n",
    "        \n",
    "        while end_idx <= z_shape:\n",
    "\n",
    "            # Select slice for batch and run model\n",
    "            subject_sliced_batch = subject_sliced[start_idx:end_idx,:,:,:,:]\n",
    "\n",
    "            if which_dataset == 'noisy':\n",
    "                mean, std, noise = next(noise_generator)\n",
    "                #print(f'Adding noise with mean {mean} and std {std}')\n",
    "                subject_sliced_batch += noise\n",
    "            if which_dataset == 'deformation':\n",
    "                # TODO: Change this, since the dataset will have been created\n",
    "                subject_sliced_batch, mask_batch = generate_deformation_chan(subject_sliced_batch)\n",
    "                # Mask with (batch, time) at which there are anomalies\n",
    "                with_anomalies = set(zip(np.where(mask_batch != 0)[0], np.where(mask_batch != 0)[3]))\n",
    "                without_anomalies = set(zip(np.where(mask_batch == 0)[0], np.where(mask_batch == 0)[3]))\n",
    "                \n",
    "            # Turn into tensor\n",
    "            subject_sliced_batch = torch.from_numpy(subject_sliced_batch).permute(0,4,1,2,3).to(device)\n",
    "            # Run model\n",
    "            model.eval()\n",
    "            with torch.no_grad():\n",
    "                \n",
    "                output_dict  = model(subject_sliced_batch.float())\n",
    "                reconstruction = output_dict['decoder_output']\n",
    "                if batch_size !=1 and which_dataset == 'deformation':\n",
    "                    error = RMSE(subject_sliced_batch, reconstruction, dim=(1,2,3))\n",
    "                    for anom_coord in with_anomalies:\n",
    "                        sick.append(error[anom_coord])\n",
    "\n",
    "                    for normal_coord in without_anomalies - with_anomalies:\n",
    "                        not_sick.append(error[normal_coord])\n",
    "\n",
    "\n",
    "                if batch_size !=1 and which_dataset == 'noisy':\n",
    "                    error = RMSE(subject_sliced_batch, reconstruction, dim=(1,2,3))\n",
    "                \n",
    "                #print('error shape: ',error.shape)\n",
    "                \n",
    "                subject_rmse.append(error.tolist())     \n",
    "                out_path = os.path.join(project_code_root,'Results/Evaluation/' + config_model + '/' + preprocess_method + '/' + model_name + '/' + which_dataset + '/' + 'Subject_' + str(subject) + '_' + str(start_idx) + '_' + str(end_idx) + '.png')\n",
    "                subject_sliced_batch = subject_sliced_batch.transpose(1,2).transpose(2,3).transpose(3,4).cpu().numpy()\n",
    "                reconstruction = reconstruction.transpose(1,2).transpose(2,3).transpose(3,4).cpu().numpy()\n",
    "                plot_batch_3d_complete(subject_sliced_batch, reconstruction, every_x_time_step=2, out_path= out_path)\n",
    "\n",
    "            # Update indices\n",
    "            start_idx += batch_size\n",
    "            end_idx += batch_size\n",
    "        # We have the rmse of the different slices, compute total rmse and std for subject\n",
    "        all_healthy_deformation_rmse.append(np.array(not_sick))\n",
    "        all_healthy_deformation_mean_rmse.append(np.mean(np.array(not_sick)))\n",
    "        all_anomalous_deformation_rmse.append(np.array(sick))\n",
    "        all_anomalous_deformation_mean_rmse.append(np.mean(np.array(sick)))\n",
    "        subject_rmse = np.array(subject_rmse)\n",
    "        subject_rmse_mean = np.mean(subject_rmse)\n",
    "        subject_rmse_std = np.std(subject_rmse)\n",
    "        print('Subject {} RMSE: {} +/- {}'.format(subject, subject_rmse_mean, subject_rmse_std))\n",
    "        all_dataset_mean_rmse.append(subject_rmse_mean)\n",
    "        all_dataset_rmse.append(subject_rmse)\n",
    "    # End of dataset\n",
    "    all_dataset_mean_rmse = np.array(all_dataset_mean_rmse)\n",
    "    all_dataset_rmse = np.array(all_dataset_rmse)\n",
    "    healthy_deformation_rmse = all_healthy_deformation_rmse\n",
    "    healthy_deformation_mean_rmse = all_healthy_deformation_mean_rmse\n",
    "    anomalous_deformation_rmse = all_anomalous_deformation_rmse\n",
    "    anomalous_deformation_mean_rmse = all_anomalous_deformation_mean_rmse\n",
    "    if which_dataset == 'noisy':\n",
    "        noisy_mean_rmse.append(all_dataset_mean_rmse)\n",
    "        noisy_rmse.append(all_dataset_rmse)\n",
    "    if which_dataset == 'deformation':\n",
    "        deformation_mean_rmse.append(all_dataset_mean_rmse)\n",
    "        deformation_rmse.append(all_dataset_rmse)\n",
    "    dataset_mean_rmse = np.mean(all_dataset_mean_rmse)\n",
    "    dataset_std_rmse = np.std(all_dataset_mean_rmse)\n",
    "    anomalous_mean_rmse.append(all_dataset_mean_rmse)\n",
    "    anomalous_rmse.append(all_dataset_rmse)\n",
    "\n",
    "anomalous_mean_rmse = np.array(anomalous_mean_rmse).flatten()\n",
    "anomalous_rmse = np.array(anomalous_rmse).flatten()\n",
    "#noisy_mean_rmse = np.array(noisy_mean_rmse).flatten()\n",
    "#noisy_rmse = np.array(noisy_rmse).flatten()\n",
    "deformation_mean_rmse = np.array(deformation_mean_rmse).flatten()\n",
    "deformation_rmse = np.array(deformation_rmse).flatten()\n",
    "healthy_deformation_mean_rmse = np.array(healthy_deformation_mean_rmse).flatten()\n",
    "healthy_deformation_rmse = np.array(healthy_deformation_rmse).flatten()\n",
    "anomalous_deformation_mean_rmse = np.array(anomalous_deformation_mean_rmse).flatten()\n",
    "anomalous_deformation_rmse = np.array(anomalous_deformation_rmse).flatten()\n",
    "    \n",
    "print(anomalous_mean_rmse.shape, anomalous_rmse.shape, healthy_deformation_mean_rmse.shape, healthy_deformation_rmse.shape, anomalous_deformation_mean_rmse.shape, anomalous_deformation_rmse.shape)\n"
   ]
  },
  {
   "cell_type": "code",
   "execution_count": 62,
   "metadata": {},
   "outputs": [],
   "source": [
    "\n",
    "anomalous_deformation_rmse_final = np.concatenate(anomalous_deformation_rmse.ravel())\n",
    "healthy_deformation_rmse_final = np.concatenate(healthy_deformation_rmse.ravel())"
   ]
  },
  {
   "attachments": {},
   "cell_type": "markdown",
   "metadata": {},
   "source": [
    "### For the healthy samples (also unsen during training or validation)"
   ]
  },
  {
   "cell_type": "code",
   "execution_count": 63,
   "metadata": {},
   "outputs": [
    {
     "name": "stdout",
     "output_type": "stream",
     "text": [
      "Subject 0 RMSE: 0.017096390970588498 +/- 0.008961724243520324\n",
      "Subject 1 RMSE: 0.016892640507497465 +/- 0.010165691565862767\n",
      "Dataset RMSE: 0.01699451573904298 +/- 0.00010187523154551667\n",
      "(2,) (3072,)\n"
     ]
    }
   ],
   "source": [
    "use_val_train = False\n",
    "if use_val_train:\n",
    "    val_id_end = val_id_end_tr\n",
    "    val_id_start = val_id_start_tr\n",
    "    images_vl = images_vl_in_train\n",
    "healthy_mean_rmse = []\n",
    "healthy_rmse = []\n",
    "all_healthy_mean_rmse = []\n",
    "all_healthy_rmse = []\n",
    "for subject in range(val_id_end - val_id_start):\n",
    "    # Initialize while loop\n",
    "    start_idx = 0\n",
    "    end_idx = batch_size\n",
    "    subject_rmse = []\n",
    "\n",
    "    # Select subject\n",
    "    subject_sliced = images_vl[subject*z_shape:(subject+1)*z_shape,:,:,:,:]\n",
    "\n",
    "    while end_idx <= z_shape:\n",
    "\n",
    "        # Select slice for batch and run model\n",
    "        subject_sliced_batch = subject_sliced[start_idx:end_idx,:,:,:,:]\n",
    "        subject_sliced_batch = torch.from_numpy(subject_sliced_batch).permute(0,4,1,2,3).to(device)\n",
    "        # Run model\n",
    "        model.eval()\n",
    "        with torch.no_grad():\n",
    "            output_dict  = model(subject_sliced_batch.float())\n",
    "            reconstruction = output_dict['decoder_output']\n",
    "            if batch_size !=1:\n",
    "                error = RMSE(subject_sliced_batch, reconstruction, dim=(1,2,3))\n",
    "            subject_rmse.append(error.tolist())\n",
    "            out_path = os.path.join(project_code_root,'Results/Evaluation/' + config_model + '/' + preprocess_method + '/' + model_name + '/' + 'Subject_' + str(subject) + '_' + str(start_idx) + '_' + str(end_idx) + '.png')\n",
    "            subject_sliced_batch = subject_sliced_batch.transpose(1,2).transpose(2,3).transpose(3,4).cpu().numpy()\n",
    "            reconstruction = reconstruction.transpose(1,2).transpose(2,3).transpose(3,4).cpu().numpy()\n",
    "            plot_batch_3d_complete(subject_sliced_batch, reconstruction, every_x_time_step=2, out_path= out_path)\n",
    "\n",
    "        # Update indices\n",
    "        start_idx += batch_size\n",
    "        end_idx += batch_size\n",
    "    # We have the rmse of the different slices, compute total rmse and std for subject\n",
    "    subject_rmse = np.array(subject_rmse)\n",
    "    subject_rmse_mean = np.mean(subject_rmse)\n",
    "    subject_rmse_std = np.std(subject_rmse)\n",
    "    print('Subject {} RMSE: {} +/- {}'.format(subject, subject_rmse_mean, subject_rmse_std))\n",
    "    all_healthy_mean_rmse.append(subject_rmse_mean)\n",
    "    all_healthy_rmse.append(subject_rmse)\n",
    "# End of dataset\n",
    "all_healthy_mean_rmse = np.array(all_healthy_mean_rmse)\n",
    "all_healthy_rmse = np.array(all_healthy_rmse)\n",
    "dataset_mean_rmse = np.mean(all_healthy_mean_rmse)\n",
    "dataset_std_rmse = np.std(all_healthy_mean_rmse)\n",
    "print('Dataset RMSE: {} +/- {}'.format(dataset_mean_rmse, dataset_std_rmse))\n",
    "healthy_mean_rmse.append(all_healthy_mean_rmse)\n",
    "healthy_rmse.append(all_healthy_rmse)\n",
    "\n",
    "healthy_mean_rmse = np.array(healthy_mean_rmse).flatten()\n",
    "healthy_rmse = np.array(healthy_rmse).flatten()\n",
    "    \n",
    "print(healthy_mean_rmse.shape, healthy_rmse.shape)"
   ]
  },
  {
   "cell_type": "code",
   "execution_count": 82,
   "metadata": {},
   "outputs": [],
   "source": [
    "anomalous_deformation_rmse_final\n",
    "healthy_deformation_rmse_final\n",
    "\n",
    "total_healthy = np.concatenate((healthy_deformation_rmse_final, healthy_rmse))\n",
    "total_anomalous = np.concatenate((anomalous_deformation_rmse_final, anomalous_rmse))"
   ]
  },
  {
   "cell_type": "code",
   "execution_count": 83,
   "metadata": {},
   "outputs": [
    {
     "name": "stdout",
     "output_type": "stream",
     "text": [
      "AUC score: 0.8785718222129504\n",
      "============================================================\n",
      "============================================================\n"
     ]
    },
    {
     "data": {
      "text/plain": [
       "<matplotlib.legend.Legend at 0x7f96b29d7970>"
      ]
     },
     "execution_count": 83,
     "metadata": {},
     "output_type": "execute_result"
    },
    {
     "data": {
      "image/png": "[encoded data removed]",
      "text/plain": [
       "<Figure size 640x480 with 1 Axes>"
      ]
     },
     "metadata": {},
     "output_type": "display_data"
    }
   ],
   "source": [
    "#healthy_mean_rmse = np.concatenate(np.array(healthy_mean_rmse), axis=0)\n",
    "#anomalous_mean_rmse = np.concatenate(np.array(anomalous_mean_rmse), axis=0)\n",
    "y_true = np.concatenate((np.zeros(total_healthy.shape), np.ones(total_anomalous.shape)))\n",
    "y_score = np.concatenate((total_healthy, total_anomalous))\n",
    "fpr, tpr, thresholds = roc_curve(y_true, y_score)\n",
    "auc_score = auc(fpr, tpr)\n",
    "print('AUC score: {}'.format(auc_score))\n",
    "print('============================================================')\n",
    "print('============================================================')\n",
    "# Plot ROC curve\n",
    "plt.figure()\n",
    "plt.plot(fpr, tpr, color='blue', label=f'AUC = {auc_score:.2f}')\n",
    "plt.plot([0, 1], [0, 1], color='black', linestyle='--')\n",
    "plt.xlabel('False Positive Rate')\n",
    "plt.ylabel('True Positive Rate')\n",
    "plt.title('ROC Curve for healthy vs noisy/deformed')\n",
    "plt.legend()"
   ]
  },
  {
   "cell_type": "code",
   "execution_count": 71,
   "metadata": {},
   "outputs": [
    {
     "data": {
      "text/plain": [
       "array([0.01603748, 0.01739738, 0.0223995 , ..., 0.00416324, 0.00307341,\n",
       "       0.00199535])"
      ]
     },
     "execution_count": 71,
     "metadata": {},
     "output_type": "execute_result"
    }
   ],
   "source": [
    "healthy_rmse"
   ]
  },
  {
   "cell_type": "code",
   "execution_count": 81,
   "metadata": {},
   "outputs": [
    {
     "name": "stdout",
     "output_type": "stream",
     "text": [
      "AUC score: 0.7740100966559516\n",
      "============================================================\n",
      "============================================================\n"
     ]
    },
    {
     "data": {
      "text/plain": [
       "<matplotlib.legend.Legend at 0x7f96b2975510>"
      ]
     },
     "execution_count": 81,
     "metadata": {},
     "output_type": "execute_result"
    },
    {
     "data": {
      "image/png": "[encoded data removed]",
      "text/plain": [
       "<Figure size 640x480 with 1 Axes>"
      ]
     },
     "metadata": {},
     "output_type": "display_data"
    }
   ],
   "source": [
    "\n",
    "y_true = np.concatenate((np.zeros(np.array(healthy_rmse).shape), np.ones(np.array(noisy_rmse).shape)))\n",
    "y_score = np.concatenate((np.array(healthy_rmse), np.array(noisy_rmse)))\n",
    "fpr, tpr, thresholds = roc_curve(y_true, y_score)\n",
    "auc_score = auc(fpr, tpr)\n",
    "print('AUC score: {}'.format(auc_score))\n",
    "print('============================================================')\n",
    "print('============================================================')\n",
    "# Plot ROC curve\n",
    "plt.figure()\n",
    "plt.plot(fpr, tpr, color='blue', label=f'AUC = {auc_score:.2f}')\n",
    "plt.plot([0, 1], [0, 1], color='black', linestyle='--')\n",
    "plt.xlabel('False Positive Rate')\n",
    "plt.ylabel('True Positive Rate')\n",
    "plt.title('ROC Curve for healthy vs noisy')\n",
    "plt.legend()"
   ]
  },
  {
   "cell_type": "code",
   "execution_count": 72,
   "metadata": {},
   "outputs": [],
   "source": []
  },
  {
   "cell_type": "code",
   "execution_count": 73,
   "metadata": {},
   "outputs": [
    {
     "name": "stdout",
     "output_type": "stream",
     "text": [
      "AUC score: 0.8974708112550699\n",
      "============================================================\n",
      "============================================================\n"
     ]
    },
    {
     "data": {
      "text/plain": [
       "<matplotlib.legend.Legend at 0x7f968cbe22f0>"
      ]
     },
     "execution_count": 73,
     "metadata": {},
     "output_type": "execute_result"
    },
    {
     "data": {
      "image/png": "[encoded data removed]",
      "text/plain": [
       "<Figure size 640x480 with 1 Axes>"
      ]
     },
     "metadata": {},
     "output_type": "display_data"
    }
   ],
   "source": [
    "\n",
    "#deformation_mean_rmse = np.concatenate(np.array(deformation_mean_rmse), axis=0)\n",
    "y_true = np.concatenate((np.zeros(total_healthy.shape), np.ones(anomalous_deformation_rmse_final.shape)))\n",
    "y_score = np.concatenate((total_healthy, anomalous_deformation_rmse_final))\n",
    "fpr, tpr, thresholds = roc_curve(y_true, y_score)\n",
    "auc_score = auc(fpr, tpr)\n",
    "print('AUC score: {}'.format(auc_score))\n",
    "print('============================================================')\n",
    "print('============================================================')\n",
    "# Plot ROC curve\n",
    "plt.figure()\n",
    "plt.plot(fpr, tpr, color='blue', label=f'AUC = {auc_score:.2f}')\n",
    "plt.plot([0, 1], [0, 1], color='black', linestyle='--')\n",
    "plt.xlabel('False Positive Rate')\n",
    "plt.ylabel('True Positive Rate')\n",
    "plt.title('ROC Curve for healthy vs deformed')\n",
    "plt.legend()"
   ]
  },
  {
   "cell_type": "code",
   "execution_count": null,
   "metadata": {},
   "outputs": [],
   "source": []
  }
 ],
 "metadata": {
  "kernelspec": {
   "display_name": "vtk_wrap",
   "language": "python",
   "name": "python3"
  },
  "language_info": {
   "codemirror_mode": {
    "name": "ipython",
    "version": 3
   },
   "file_extension": ".py",
   "mimetype": "text/x-python",
   "name": "python",
   "nbconvert_exporter": "python",
   "pygments_lexer": "ipython3",
   "version": "3.10.11"
  },
  "orig_nbformat": 4
 },
 "nbformat": 4,
 "nbformat_minor": 2
}
