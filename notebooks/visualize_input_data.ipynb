{
 "cells": [
  {
   "cell_type": "code",
   "execution_count": 1,
   "metadata": {},
   "outputs": [],
   "source": [
    "import os\n",
    "import numpy as np\n",
    "import matplotlib.pyplot as plt\n",
    "import sys\n",
    "sys.path.append('/usr/bmicnas02/data-biwi-01/jeremy_students/lschlyter/4dflowmri_anomaly_detection')\n",
    "from config import system as config_sys\n",
    "sys.path.append(f\"{config_sys.project_code_root}/src\")\n",
    "from helpers.data_loader import load_data\n"
   ]
  },
  {
   "cell_type": "code",
   "execution_count": 2,
   "metadata": {},
   "outputs": [
    {
     "name": "stderr",
     "output_type": "stream",
     "text": [
      "2024-10-31 14:44:35,788 =============================================================================\n",
      "2024-10-31 14:44:35,789 Preprocessing method: masked_slice\n",
      "2024-10-31 14:44:35,790 Loading training data from: /usr/bmicnas02/data-biwi-01/jeremy_students/data/inselspital/kady\n",
      "2024-10-31 14:44:35,794 Already preprocessed this configuration. Loading now...\n",
      "2024-10-31 14:44:35,794 Name of file: /usr/bmicnas02/data-biwi-01/jeremy_students/lschlyter/4dflowmri_anomaly_detection/data/train_without_rotation_with_cs_skip_updated_ao_S10_balanced_masked_sliced_images_from_0_to_1.hdf5\n",
      "2024-10-31 14:44:35,814 <class 'h5py._hl.dataset.Dataset'>\n",
      "2024-10-31 14:44:35,815 Shape of training images: (64, 32, 32, 24, 4)\n",
      "2024-10-31 14:44:35,816 Shape of training rotation matrix dataset: (64, 3, 3)\n",
      "2024-10-31 14:44:35,816 =============================================================================\n",
      "2024-10-31 14:44:35,817 Loading validation data from: /usr/bmicnas02/data-biwi-01/jeremy_students/data/inselspital/kady\n",
      "2024-10-31 14:44:35,819 Already preprocessed this configuration. Loading now...\n",
      "2024-10-31 14:44:35,820 Name of file: /usr/bmicnas02/data-biwi-01/jeremy_students/lschlyter/4dflowmri_anomaly_detection/data/val_without_rotation_with_cs_skip_updated_ao_S10_balanced_masked_sliced_images_from_0_to_1.hdf5\n",
      "2024-10-31 14:44:35,839 Shape of validation images: (64, 32, 32, 24, 4)\n",
      "2024-10-31 14:44:35,840 Shape of validation rotation matrix dataset: (64, 3, 3)\n",
      "2024-10-31 14:44:35,840 =============================================================================\n",
      "2024-10-31 14:44:35,840 Loading test data from: /usr/bmicnas02/data-biwi-01/jeremy_students/data/inselspital/kady\n",
      "2024-10-31 14:44:35,843 Already preprocessed this configuration. Loading now...\n",
      "2024-10-31 14:44:35,843 Name of file: /usr/bmicnas02/data-biwi-01/jeremy_students/lschlyter/4dflowmri_anomaly_detection/data/test_without_rotation_with_cs_skip_updated_ao_S10_balanced_masked_sliced_images_from_0_to_54.hdf5\n",
      "2024-10-31 14:44:35,865 Shape of test images: (3456, 32, 32, 24, 4)\n",
      "2024-10-31 14:44:35,866 Shape of test rotation matrix dataset: (3456, 3, 3)\n",
      "2024-10-31 14:44:35,866 =============================================================================\n"
     ]
    }
   ],
   "source": [
    "config = {\"preprocess_method\": \"masked_slice\",\n",
    "          \"idx_end_test\": 54,\n",
    "          \"idx_start_test\": 0,\n",
    "            \"suffix_data\": \"_without_rotation_with_cs_skip_updated_ao_S10_balanced\",\n",
    "          }\n",
    "data_dict = load_data(config, config_sys,idx_start_ts = config[\"idx_start_test\"], idx_end_ts=config['idx_end_test'],suffix = config['suffix_data'])"
   ]
  },
  {
   "cell_type": "code",
   "execution_count": 3,
   "metadata": {},
   "outputs": [
    {
     "data": {
      "text/plain": [
       "(128, 32, 32, 24, 4)"
      ]
     },
     "execution_count": 3,
     "metadata": {},
     "output_type": "execute_result"
    }
   ],
   "source": [
    "test_data = data_dict['images_test'][:64*2]\n",
    "test_data.shape"
   ]
  },
  {
   "cell_type": "code",
   "execution_count": 4,
   "metadata": {},
   "outputs": [
    {
     "data": {
      "text/plain": [
       "<matplotlib.colorbar.Colorbar at 0x7fe2faeeb970>"
      ]
     },
     "execution_count": 4,
     "metadata": {},
     "output_type": "execute_result"
    },
    {
     "data": {
      "image/png": "[encoded data removed]",
      "text/plain": [
       "<Figure size 640x480 with 2 Axes>"
      ]
     },
     "metadata": {},
     "output_type": "display_data"
    }
   ],
   "source": [
    "z_slice = 62\n",
    "time = 20\n",
    "channel = 0\n",
    "plt.imshow(test_data[z_slice,:,:,time,channel])\n",
    "plt.colorbar()"
   ]
  }
 ],
 "metadata": {
  "kernelspec": {
   "display_name": "vtk_wrap",
   "language": "python",
   "name": "python3"
  },
  "language_info": {
   "codemirror_mode": {
    "name": "ipython",
    "version": 3
   },
   "file_extension": ".py",
   "mimetype": "text/x-python",
   "name": "python",
   "nbconvert_exporter": "python",
   "pygments_lexer": "ipython3",
   "version": "3.10.14"
  },
  "orig_nbformat": 4
 },
 "nbformat": 4,
 "nbformat_minor": 2
}
