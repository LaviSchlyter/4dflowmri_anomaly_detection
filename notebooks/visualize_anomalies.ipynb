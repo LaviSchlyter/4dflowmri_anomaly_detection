{
 "cells": [
  {
   "attachments": {},
   "cell_type": "markdown",
   "metadata": {},
   "source": [
    "### We take images from healthy and unhealthy people to try and see if we can visualize what anomalies may look like"
   ]
  },
  {
   "cell_type": "code",
   "execution_count": 1,
   "metadata": {},
   "outputs": [],
   "source": [
    "import numpy as np\n",
    "import matplotlib.pyplot as plt\n",
    "import h5py\n",
    "import os"
   ]
  },
  {
   "cell_type": "code",
   "execution_count": null,
   "metadata": {},
   "outputs": [],
   "source": [
    "model_path = '/usr/bmicnas02/data-biwi-01/jeremy_students/lschlyter/CNN-segmentation/logdir/inference_results/unet3d_da_0.0nchannels4_r1_loss_dice_cut_z_False_full_run_only_w_labels_e80_lr_1e-3_AdamW_val_40'"
   ]
  },
  {
   "cell_type": "code",
   "execution_count": null,
   "metadata": {},
   "outputs": [],
   "source": [
    "os.listdir(model_path)\n",
    "\n",
    "# Load data\n",
    "control_data = h5py.File(os.path.join(model_path, 'controls_masked_sliced_images.hdf5'), 'r')\n",
    "patient_data = h5py.File(os.path.join(model_path, 'patients_masked_sliced_images.hdf5'), 'r')\n",
    "control = control_data['sliced_images_controls'][:]\n",
    "patient = patient_data['sliced_images_patients'][:320]\n",
    "# We take 5 control and 5 patient images\n",
    "print(control.shape, patient.shape)\n",
    "# Reshaping to patients \n",
    "control = control.reshape(-1, 64, 32, 32, 48, 4)\n",
    "patient = patient.reshape(5, 64, 32, 32, 48, 4)\n",
    "print(control.shape, patient.shape)"
   ]
  },
  {
   "attachments": {},
   "cell_type": "markdown",
   "metadata": {},
   "source": [
    "[Case 1](#case-1)"
   ]
  },
  {
   "attachments": {},
   "cell_type": "markdown",
   "metadata": {},
   "source": [
    "## Case 1\n",
    "- Take midpoint in ascending aorta (slice 32)\n",
    "- Take time at which velocity magnitude is highest\n",
    "- Take velocity magnitude channel"
   ]
  },
  {
   "cell_type": "code",
   "execution_count": null,
   "metadata": {},
   "outputs": [],
   "source": [
    "# Pick midpoint ascending aorta # index 32 ? \n",
    "control_mid = control[:, 32, ...]\n",
    "patient_mid = patient[:, 32, ...]\n",
    "print(control_mid.shape, patient_mid.shape)\n",
    "\n",
    "# Compute velocity magnitude\n",
    "control_mid = np.concatenate((control_mid, np.linalg.norm(control_mid[...,1:], axis=-1, keepdims=True)), axis=-1)\n",
    "patient_mid = np.concatenate((patient_mid, np.linalg.norm(patient_mid[...,1:], axis=-1, keepdims=True)), axis=-1)\n",
    "print(control_mid.shape, patient_mid.shape)\n"
   ]
  },
  {
   "cell_type": "code",
   "execution_count": null,
   "metadata": {},
   "outputs": [],
   "source": [
    "# Pick time index with highest velocity mangitude\n",
    "max_magnitude_control_mid = abs(control_mid[...,4]).max(axis=(1,2))\n",
    "max_magnitude_patient_mid = abs(patient_mid[...,4]).max(axis=(1,2))\n",
    "print(max_magnitude_control_mid.shape, max_magnitude_patient_mid.shape)\n",
    "print(max_magnitude_control_mid.argmax(axis=1), max_magnitude_patient_mid.argmax(axis=1))"
   ]
  },
  {
   "cell_type": "code",
   "execution_count": null,
   "metadata": {},
   "outputs": [],
   "source": [
    "control_mid_t = np.array([control_mid[i, :, :,max_magnitude_control_mid.argmax(axis=1)[i],:] for i in range(control_mid.shape[0])])\n",
    "patient_mid_t = np.array([patient_mid[i, :, :,max_magnitude_patient_mid.argmax(axis=1)[i],:] for i in range(patient_mid.shape[0])])\n",
    "\n",
    "print(control_mid_t.shape, patient_mid_t.shape)"
   ]
  },
  {
   "cell_type": "code",
   "execution_count": null,
   "metadata": {},
   "outputs": [],
   "source": [
    "fig, axes = plt.subplots(nrows=2, ncols=5, figsize=(15, 7))\n",
    "\n",
    "cbar_ax = fig.add_axes([0.92, 0.15, 0.02, 0.7])  # Adjust the position of the colorbar as needed\n",
    "\n",
    "for i in range(5):\n",
    "    im0 = axes[0, i].imshow(control_mid_t[i, ..., 4], cmap = 'viridis', vmin = 0, vmax = 1)\n",
    "    im1 = axes[1, i].imshow(patient_mid_t[i, ..., 4], cmap = 'viridis', vmin = 0, vmax = 1)\n",
    "\n",
    "# Add a colorbar to the right side\n",
    "fig.colorbar(im1, cax=cbar_ax)\n",
    "\n",
    "print('Control on top, patient on bottom')\n",
    "plt.show()\n"
   ]
  },
  {
   "cell_type": "code",
   "execution_count": null,
   "metadata": {},
   "outputs": [],
   "source": [
    "fig, ax = plt.subplots(nrows=2, ncols=2, figsize=(17, 10))\n",
    "\n",
    "\n",
    "ax[0, 0].plot(control_mid[ ..., 1].mean(axis = (1,2)).T, color = \"green\");\n",
    "ax[0, 0].plot(control_mid[ ..., 1].mean(axis = (0,1,2)).T, color = \"green\", marker = 'D', markeredgecolor = 'black', label = 'Control');\n",
    "ax[0,0].set_title('Mean foot-head axis')\n",
    "ax[0, 0].plot(patient_mid[ ..., 1].mean(axis = (1,2)).T, color = \"red\");\n",
    "ax[0, 0].plot(patient_mid[ ..., 1].mean(axis = (0,1,2)).T, color = \"red\", marker = 'X', markeredgecolor = 'black', label = 'patient');\n",
    "ax[0, 0].legend()\n",
    "ax[1, 0].plot(control_mid[ ..., 1].max(axis = (1,2)).T, color = \"green\");\n",
    "ax[1,0].set_title('Max foot-head axis')\n",
    "ax[1, 0].plot(patient_mid[ ..., 1].max(axis = (1,2)).T, color = \"red\");\n",
    "ax[0,1].set_title('Mean velocity magnitude')\n",
    "ax[0, 1].plot(patient_mid[ ..., 4].mean(axis = (1,2)).T, color = \"red\");\n",
    "ax[0,1].plot(patient_mid[ ..., 4].mean(axis = (0,1,2)).T, color = \"red\", marker = 'X', markeredgecolor = 'black');\n",
    "ax[0, 1].plot(control_mid[ ..., 4].mean(axis = (1,2)).T, color = \"green\");\n",
    "ax[0,1].plot(control_mid[ ..., 4].mean(axis = (0,1,2)).T, color = \"green\", marker = 'D', markeredgecolor = 'black');\n",
    "ax[1,1].set_title('Max velocity magnitude')\n",
    "ax[1, 1].plot(patient_mid[ ..., 4].max(axis = (1,2)).T, color = \"red\");\n",
    "ax[1, 1].plot(control_mid[ ..., 4].max(axis = (1,2)).T, color = \"green\");\n",
    "fig.supxlabel('Time ')\n",
    "\n"
   ]
  },
  {
   "cell_type": "code",
   "execution_count": null,
   "metadata": {},
   "outputs": [],
   "source": [
    "# Compute the cumulative flow or volume over time for controls and patients\n",
    "cumulative_flow_controls = np.cumsum(control_mid[...,4], axis=3)\n",
    "cumulative_flow_patients = np.cumsum(patient_mid[...,4], axis=3)\n",
    "\n",
    "# Generate the x-axis values (time points)\n",
    "time_points = np.arange(control_mid.shape[3])\n",
    "\n",
    "# Compute the mean cumulative flow or volume across spatial dimensions (patient, x, y)\n",
    "mean_cumulative_flow_controls = np.mean(cumulative_flow_controls, axis=(0, 1, 2))\n",
    "mean_cumulative_flow_patients = np.mean(cumulative_flow_patients, axis=(0, 1, 2))\n",
    "# Create the area chart for controls\n",
    "plt.fill_between(time_points, mean_cumulative_flow_controls, color='blue', alpha=0.3, label='Controls')\n",
    "\n",
    "# Create the area chart for patients\n",
    "plt.fill_between(time_points, mean_cumulative_flow_patients, color='red', alpha=0.3, label='Patients')\n",
    "\n",
    "# Customize the plot\n",
    "plt.xlabel('Time')\n",
    "plt.ylabel('Mean Cumulative Flow or Volume')\n",
    "plt.title('Comparison of Mean Cumulative foot-head velocity')\n",
    "plt.legend()\n",
    "\n",
    "# Display the plot\n",
    "plt.show()\n"
   ]
  },
  {
   "attachments": {},
   "cell_type": "markdown",
   "metadata": {},
   "source": [
    "## Case 2\n",
    "- Take a range of values out of 64, why not 20:44 ()"
   ]
  },
  {
   "cell_type": "code",
   "execution_count": null,
   "metadata": {},
   "outputs": [],
   "source": [
    "# Pick range in ascending aorta \n",
    "control_range = control[:, 20:44, ...]\n",
    "patient_range = patient[:, 20:44, ...]\n",
    "print(control_range.shape, patient_range.shape)\n",
    "# Compute velocity magnitude\n",
    "control_range = np.concatenate((control_range, np.linalg.norm(control_range[...,1:], axis=-1, keepdims=True)), axis=-1)\n",
    "patient_range = np.concatenate((patient_range, np.linalg.norm(patient_range[...,1:], axis=-1, keepdims=True)), axis=-1)\n",
    "print(control_range.shape, patient_range.shape)"
   ]
  },
  {
   "cell_type": "code",
   "execution_count": null,
   "metadata": {},
   "outputs": [],
   "source": [
    "# Pick time index with highest velocity mangitude\n",
    "max_magnitude_control_range = abs(control_range[...,4]).max(axis=(1,2,3))\n",
    "max_magnitude_patient_range = abs(patient_range[...,4]).max(axis=(1,2,3))\n",
    "print(max_magnitude_control_range.shape, max_magnitude_patient_range.shape)\n",
    "print(max_magnitude_control_range.argmax(axis=1), max_magnitude_patient_range.argmax(axis=1))"
   ]
  },
  {
   "cell_type": "code",
   "execution_count": null,
   "metadata": {},
   "outputs": [],
   "source": [
    "control_range_t = np.array([control_range[i, :, :,:,max_magnitude_control_range.argmax(axis=1)[i],:] for i in range(control_range.shape[0])])\n",
    "patient_range_t = np.array([patient_range[i, :, :,:,max_magnitude_patient_range.argmax(axis=1)[i],:] for i in range(patient_range.shape[0])])\n",
    "\n",
    "print(control_range_t.shape, patient_range_t.shape)"
   ]
  },
  {
   "cell_type": "code",
   "execution_count": null,
   "metadata": {},
   "outputs": [],
   "source": [
    "fig, axes = plt.subplots(nrows=2, ncols=5, figsize=(20, 10))\n",
    "cbar_ax = fig.add_axes([0.92, 0.15, 0.02, 0.7])  # Adjust the position of the colorbar as needed\n",
    "\n",
    "c_ = 4\n",
    "if c_ == 4:\n",
    "    vmin = 0\n",
    "    vmax = 1\n",
    "else:\n",
    "    vmin = -1\n",
    "    vmax = 1\n",
    "for i in range(5):\n",
    "    im0 = axes[0, i].imshow(control_range_t[i,0, ..., c_], vmin = vmin, vmax = vmax)\n",
    "    im1 = axes[1, i].imshow(patient_range_t[i,0, ..., c_], vmin = vmin, vmax = vmax)\n",
    "\n",
    "# Add a colorbar to the right side\n",
    "fig.colorbar(im1, cax=cbar_ax)\n",
    "\n",
    "plt.show()"
   ]
  },
  {
   "cell_type": "code",
   "execution_count": null,
   "metadata": {},
   "outputs": [],
   "source": [
    "control_range.shape"
   ]
  },
  {
   "cell_type": "code",
   "execution_count": null,
   "metadata": {},
   "outputs": [],
   "source": [
    "fig, ax = plt.subplots(nrows=2, ncols=2, figsize=(17, 10))\n",
    "\n",
    "\n",
    "ax[0, 0].plot(control_range[ ..., 1].mean(axis = (1,2,3)).T, color = \"green\", );\n",
    "ax[0,0].plot(control_range[ ..., 1].mean(axis = (0,1,2,3)).T, color = \"green\", marker = 'D', markeredgecolor = 'black');\n",
    "ax[0,0].set_title('Mean foot-head axis')\n",
    "ax[0, 0].plot(patient_range[ ..., 1].mean(axis = (1,2,3)).T, color = \"red\");\n",
    "ax[0, 0].plot(patient_range[ ..., 1].mean(axis = (0,1,2,3)).T, color = \"red\", marker = 'X', markeredgecolor = 'black');\n",
    "ax[1, 0].plot(control_range[ ..., 1].max(axis = (1,2,3)).T, color = \"green\");\n",
    "ax[1,0].set_title('Max foot-head axis')\n",
    "ax[1, 0].plot(patient_range[ ..., 1].max(axis = (1,2,3)).T, color = \"red\");\n",
    "ax[0,1].set_title('Mean velocity magnitude')\n",
    "ax[0, 1].plot(patient_range[ ..., 4].mean(axis = (1,2,3)).T, color = \"red\");\n",
    "ax[0,1].plot(patient_range[ ..., 4].mean(axis = (0,1,2,3)).T, color = \"red\", marker = 'X', markeredgecolor = 'black');\n",
    "ax[0, 1].plot(control_range[ ..., 4].mean(axis = (1,2,3)).T, color = \"green\");\n",
    "ax[0,1].plot(control_range[ ..., 4].mean(axis = (0,1,2,3)).T, color = \"green\", marker = 'D', markeredgecolor = 'black');\n",
    "ax[1,1].set_title('Max velocity magnitude')\n",
    "ax[1, 1].plot(patient_range[ ..., 4].max(axis = (1,2,3)).T, color = \"red\");\n",
    "ax[1, 1].plot(control_range[ ..., 4].max(axis = (1,2,3)).T, color = \"green\");\n",
    "fig.supxlabel('Time ')\n"
   ]
  },
  {
   "attachments": {},
   "cell_type": "markdown",
   "metadata": {},
   "source": [
    "## Case 3:\n",
    "\n",
    "- Visualize through and through the slices "
   ]
  },
  {
   "cell_type": "code",
   "execution_count": null,
   "metadata": {},
   "outputs": [],
   "source": [
    "# Compute magnitude \n",
    "control = np.concatenate((control, np.linalg.norm(control[...,1:], axis=-1, keepdims=True)), axis=-1)\n",
    "patient = np.concatenate((patient, np.linalg.norm(patient[...,1:], axis=-1, keepdims=True)), axis=-1)\n",
    "control.shape, patient.shape"
   ]
  },
  {
   "cell_type": "code",
   "execution_count": null,
   "metadata": {},
   "outputs": [],
   "source": [
    "z = 0\n",
    "#t = 0\n",
    "c = 1\n",
    "\n",
    "if c == 4:\n",
    "    vmin = 0\n",
    "    vmax = 1.3\n",
    "else:\n",
    "    vmin = -1\n",
    "    vmax = 1\n",
    "print('t =', t, 'z =', z, 'c =', c)\n",
    "fig, axes = plt.subplots(nrows=2, ncols=5, figsize=(14, 7))\n",
    "im = axes[0,0].imshow(control[0, z, :,:,t,c], vmin = vmin, vmax = vmax)\n",
    "im = axes[0,1].imshow(control[1, z, :,:,t,c], vmin = vmin, vmax = vmax)\n",
    "im = axes[0,2].imshow(control[2, z, :,:,t,c], vmin = vmin, vmax = vmax)\n",
    "im = axes[0,3].imshow(control[3, z, :,:,t,c], vmin = vmin, vmax = vmax)\n",
    "im = axes[0,4].imshow(control[4, z, :,:,t,c], vmin = vmin, vmax = vmax)\n",
    "im = axes[1,0].imshow(patient[0, z, :,:,t,c], vmin = vmin, vmax = vmax)\n",
    "im = axes[1,1].imshow(patient[1, z, :,:,t,c], vmin = vmin, vmax = vmax)\n",
    "im = axes[1,2].imshow(patient[2, z, :,:,t,c], vmin = vmin, vmax = vmax)\n",
    "im = axes[1,3].imshow(patient[3, z, :,:,t,c], vmin = vmin, vmax = vmax)\n",
    "im = axes[1,4].imshow(patient[4, z, :,:,t,c], vmin = vmin, vmax = vmax)\n",
    "t +=1\n",
    "\n",
    "fig.subplots_adjust(right=0.8)\n",
    "cbar_ax = fig.add_axes([0.85, 0.15, 0.05, 0.7])\n",
    "fig.colorbar(im, cax=cbar_ax)\n",
    "\n",
    "\n",
    "#plt.colorbar()\n",
    "plt.subplots_adjust(wspace=0, hspace=0)\n"
   ]
  },
  {
   "attachments": {},
   "cell_type": "markdown",
   "metadata": {},
   "source": [
    "## Case 4\n",
    "\n",
    "- Plot"
   ]
  },
  {
   "cell_type": "code",
   "execution_count": null,
   "metadata": {},
   "outputs": [],
   "source": [
    "# Assuming you have loaded your flow data for controls and patients\n",
    "flow_data_controls = control[:,:,:,:,:,4]  \n",
    "flow_data_patients = patient[:,:,:,:,:,4] \n",
    "# Compute the cumulative flow or volume over time for controls and patients\n",
    "cumulative_flow_controls = np.cumsum(flow_data_controls, axis=4)\n",
    "cumulative_flow_patients = np.cumsum(flow_data_patients, axis=4)\n",
    "\n",
    "# Generate the x-axis values (time points)\n",
    "time_points = np.arange(flow_data_controls.shape[4])\n",
    "\n",
    "# Compute the mean cumulative flow or volume across spatial dimensions (patient, x, y, z)\n",
    "mean_cumulative_flow_controls = np.mean(cumulative_flow_controls, axis=(0, 1, 2,3))\n",
    "mean_cumulative_flow_patients = np.mean(cumulative_flow_patients, axis=(0, 1, 2,3))\n",
    "\n",
    "# Create the area chart for controls\n",
    "plt.fill_between(time_points, mean_cumulative_flow_controls, color='blue', alpha=0.3, label='Controls')\n",
    "\n",
    "# Create the area chart for patients\n",
    "plt.fill_between(time_points, mean_cumulative_flow_patients, color='red', alpha=0.3, label='Patients')\n",
    "\n",
    "# Customize the plot\n",
    "plt.xlabel('Time')\n",
    "plt.ylabel('Mean Cumulative Flow or Volume')\n",
    "plt.title('Comparison of Mean Cumulative foot-head velocity')\n",
    "plt.legend()\n",
    "\n",
    "# Display the plot\n",
    "plt.show()\n"
   ]
  },
  {
   "attachments": {},
   "cell_type": "markdown",
   "metadata": {},
   "source": [
    "## Case 5\n",
    "\n",
    "- I want to profile the mean velocity (magnitude ?) through the slices "
   ]
  },
  {
   "cell_type": "code",
   "execution_count": null,
   "metadata": {},
   "outputs": [],
   "source": [
    "fig, axes = plt.subplots(nrows=2, ncols=2, figsize=(20, 10))\n",
    "ax = axes.ravel()\n",
    "# Create the line plot\n",
    "ax[0].plot(control[...,4].mean(axis=(2,3,4)).T, label='Controls', color = 'green')\n",
    "ax[0].plot(control[...,4].mean(axis=(0,2,3,4)).T, label='Controls', color = 'green', marker = 'D', markeredgecolor = 'black')\n",
    "ax[0].plot(patient[...,4].mean(axis=(2,3,4)).T, label='Patients', color = 'red')\n",
    "ax[0].plot(patient[...,4].mean(axis=(0,2,3,4)).T, label='Patients', color = 'red', marker = 'X', markeredgecolor = 'black')\n",
    "ax[0].set_xlabel('Slices')\n",
    "ax[0].set_ylabel('Velocity Magnitude')\n",
    "ax[0].set_title('Mean velocity magnitude through Slices')\n",
    "# Create the line plot\n",
    "ax[1].plot(np.max(control[...,4],axis=(2,3,4)).T, label='Controls', color = 'green')\n",
    "ax[1].plot(np.max(patient[...,4],axis=(2,3,4)).T, label='Patients', color = 'red')\n",
    "ax[1].set_xlabel('Slices')\n",
    "ax[1].set_ylabel('Velocity Magnitude')\n",
    "ax[1].set_title('Max velocity magnitude through Slices')\n",
    "\n",
    "ax[2].plot(control[...,1].mean(axis=(2,3,4)).T, label='Controls', color = 'green')\n",
    "ax[2].plot(control[...,1].mean(axis=(0,2,3,4)).T, label='Controls', color = 'green', marker = 'D', markeredgecolor = 'black')\n",
    "ax[2].plot(patient[...,1].mean(axis=(2,3,4)).T, label='Patients', color = 'red')\n",
    "ax[2].plot(patient[...,1].mean(axis=(0,2,3,4)).T, label='Patients', color = 'red', marker = 'X', markeredgecolor = 'black')\n",
    "ax[2].set_xlabel('Slices')\n",
    "ax[2].set_ylabel('Foot-Head Velocity')\n",
    "ax[2].set_title('Mean foot-head velocity through Slices')\n",
    "\n",
    "ax[3].plot(control[...,1].max(axis=(2,3,4)).T, label='Controls', color = 'green')\n",
    "ax[3].plot(patient[...,1].max(axis=(2,3,4)).T, label='Patients', color = 'red')\n",
    "ax[3].set_xlabel('Slices')\n",
    "ax[3].set_ylabel('Foot-Head Velocity')\n",
    "ax[3].set_title('Max foot-head velocity through Slices')\n"
   ]
  },
  {
   "attachments": {},
   "cell_type": "markdown",
   "metadata": {},
   "source": [
    "## Case 6\n",
    "\n",
    "- Acceleration "
   ]
  },
  {
   "cell_type": "code",
   "execution_count": null,
   "metadata": {},
   "outputs": [],
   "source": [
    "control.shape, patient.shape"
   ]
  },
  {
   "cell_type": "code",
   "execution_count": null,
   "metadata": {},
   "outputs": [],
   "source": [
    "desired_slice = None\n",
    "filtered_control = control[:, :, ...]\n",
    "filtered_patient = patient[:, :, ...]\n",
    "print(filtered_control.shape, filtered_patient.shape)\n",
    "velocity_diff_control = np.diff(filtered_control, axis=4)\n",
    "velocity_diff_patient = np.diff(filtered_patient, axis=4)\n",
    "print(velocity_diff_control.shape, velocity_diff_patient.shape)\n",
    "\n",
    "# Take time 5 - it's where the shoot happens around\n",
    "\n",
    "velocity_diff_control = velocity_diff_control[...,4,:]\n",
    "velocity_diff_patient = velocity_diff_patient[...,4,:]\n",
    "print(velocity_diff_control.shape, velocity_diff_patient.shape)\n",
    "velocity_diff_control.max(axis=(0,1,2,3)), velocity_diff_patient.max(axis=(0,1,2,3)), velocity_diff_control.min(axis=(0,1,2,3)), velocity_diff_patient.min(axis=(0,1,2,3))\n"
   ]
  },
  {
   "cell_type": "code",
   "execution_count": null,
   "metadata": {},
   "outputs": [],
   "source": [
    "fig, axes = plt.subplots(nrows=2, ncols=2, figsize=(14, 7))\n",
    "fig.suptitle('Max velocity difference through slices')\n",
    "axs = axes.ravel()\n",
    "for i in range(4):\n",
    "    axs[i].plot(velocity_diff_control[...,i+1].max(axis = (2,3)).T, color = \"green\");\n",
    "    axs[i].plot(velocity_diff_patient[...,i+1].max(axis = (2,3)).T, color = \"red\");\n",
    "    axs[i].set_title('Channel ' + str(i+1))\n",
    "plt.show()"
   ]
  },
  {
   "cell_type": "code",
   "execution_count": null,
   "metadata": {},
   "outputs": [],
   "source": [
    "fig, axes = plt.subplots(nrows=2, ncols=2, figsize=(14, 7))\n",
    "fig.suptitle('Mean velocity difference through slices')\n",
    "axs = axes.ravel()\n",
    "for i in range(4):\n",
    "    axs[i].plot(velocity_diff_control[...,i+1].mean(axis = (2,3)).T, color = \"green\");\n",
    "    axs[i].plot(velocity_diff_patient[...,i+1].mean(axis = (2,3)).T, color = \"red\");\n",
    "    axs[i].set_title('Channel ' + str(i+1))\n",
    "plt.show()"
   ]
  },
  {
   "cell_type": "code",
   "execution_count": null,
   "metadata": {},
   "outputs": [],
   "source": [
    "fig, axes = plt.subplots(nrows=2, ncols=5, figsize=(15, 5))\n",
    "cbar_ax = fig.add_axes([0.92, 0.15, 0.02, 0.7])  # Adjust the position of the colorbar as needed\n",
    "\n",
    "c_ = 4\n",
    "\n",
    "\n",
    "for i in range(5):\n",
    "    im0 = axes[0, i].imshow(velocity_diff_control[i,..., c_])\n",
    "    im1 = axes[1, i].imshow(velocity_diff_patient[i,..., c_])\n",
    "\n",
    "t +=1\n",
    "# Add a colorbar to the right side\n",
    "fig.colorbar(im1, cax=cbar_ax)\n",
    "print('Control on top, patient on bottom')\n",
    "print('c =', c_)\n",
    "plt.show()"
   ]
  },
  {
   "attachments": {},
   "cell_type": "markdown",
   "metadata": {},
   "source": [
    "## Case 7\n",
    "\n",
    "- Take the mean and compute the difference etc "
   ]
  },
  {
   "cell_type": "code",
   "execution_count": null,
   "metadata": {},
   "outputs": [],
   "source": [
    "control_mean = control[:10,...].mean(axis=(0))\n",
    "rest_control = control[10:]\n",
    "control_mean.shape, rest_control.shape"
   ]
  },
  {
   "cell_type": "code",
   "execution_count": null,
   "metadata": {},
   "outputs": [],
   "source": [
    "diff_patient = patient - control_mean\n",
    "diff_control = rest_control - control_mean\n",
    "diff_patient.shape, diff_control.shape"
   ]
  },
  {
   "cell_type": "code",
   "execution_count": null,
   "metadata": {},
   "outputs": [],
   "source": [
    "fig, axes = plt.subplots(nrows=2, ncols=2, figsize=(20, 10))\n",
    "ax = axes.ravel()\n",
    "for i in range(4):\n",
    "    \n",
    "    ax[i].plot(diff_patient[:,:,:,:,:,i+1].mean(axis=(1,2,3)).T, label='Patients', color = 'red');\n",
    "    ax[i].plot(diff_patient[:,:,:,:,:,i+1].mean(axis=(0,1,2,3)).T, label='Patients', color = 'red', marker = 'X', markeredgecolor = 'black');\n",
    "    ax[i].plot(diff_control[:,:,:,:,:,i+1].mean(axis=(1,2,3)).T, label='Controls', color = 'green');\n",
    "    ax[i].plot(diff_control[:,:,:,:,:,i+1].mean(axis=(0,1,2,3)).T, label='Controls', color = 'green', marker = 'D', markeredgecolor = 'black');\n",
    "    ax[i].set_title('Mean difference between patients/controls and mean control for channel ' + str(i+1))"
   ]
  },
  {
   "cell_type": "code",
   "execution_count": null,
   "metadata": {},
   "outputs": [],
   "source": [
    "z = 32\n",
    "#t = 0\n",
    "c = 4\n",
    "abs_diff_patient = np.abs(diff_patient)\n",
    "abs_diff_control = np.abs(diff_control)\n",
    "\n",
    "vmin = 0\n",
    "vmax = 1.5\n",
    "print('t =', t, 'z =', z, 'c =', c)\n",
    "fig, axes = plt.subplots(nrows=2, ncols=5, figsize=(14, 7))\n",
    "im = axes[0,0].imshow(abs_diff_control[0+5, z, :,:,t,c], vmin = vmin, vmax = vmax)\n",
    "im = axes[0,1].imshow(abs_diff_control[1+5, z, :,:,t,c], vmin = vmin, vmax = vmax)\n",
    "im = axes[0,2].imshow(abs_diff_control[2+5, z, :,:,t,c], vmin = vmin, vmax = vmax)\n",
    "im = axes[0,3].imshow(abs_diff_control[3+5, z, :,:,t,c], vmin = vmin, vmax = vmax)\n",
    "im = axes[0,4].imshow(abs_diff_control[4+5, z, :,:,t,c], vmin = vmin, vmax = vmax)\n",
    "im = axes[1,0].imshow(abs_diff_patient[0, z, :,:,t,c], vmin = vmin, vmax = vmax)\n",
    "im = axes[1,1].imshow(abs_diff_patient[1, z, :,:,t,c], vmin = vmin, vmax = vmax)\n",
    "im = axes[1,2].imshow(abs_diff_patient[2, z, :,:,t,c], vmin = vmin, vmax = vmax)\n",
    "im = axes[1,3].imshow(abs_diff_patient[3, z, :,:,t,c], vmin = vmin, vmax = vmax)\n",
    "im = axes[1,4].imshow(abs_diff_patient[4, z, :,:,t,c], vmin = vmin, vmax = vmax)\n",
    "t +=1\n",
    "\n",
    "fig.subplots_adjust(right=0.8)\n",
    "cbar_ax = fig.add_axes([0.85, 0.15, 0.05, 0.7])\n",
    "fig.colorbar(im, cax=cbar_ax)\n",
    "\n",
    "\n",
    "#plt.colorbar()\n",
    "plt.subplots_adjust(wspace=0, hspace=0)\n"
   ]
  },
  {
   "attachments": {},
   "cell_type": "markdown",
   "metadata": {},
   "source": [
    "Take the time at which for a particular slice the difference is the greatest "
   ]
  },
  {
   "cell_type": "code",
   "execution_count": null,
   "metadata": {},
   "outputs": [],
   "source": [
    "# Pick time index with highest velocity mangitude\n",
    "max_vx_c= abs(diff_control[...,1]).max(axis=(1,2,3))\n",
    "max_vx_p = abs(diff_patient[...,1]).max(axis=(1,2,3))\n",
    "max_vy_c= abs(diff_control[...,2]).max(axis=(1,2,3))\n",
    "max_vy_p = abs(diff_patient[...,2]).max(axis=(1,2,3))\n",
    "max_vz_c= abs(diff_control[...,3]).max(axis=(1,2,3))\n",
    "max_vz_p = abs(diff_patient[...,3]).max(axis=(1,2,3))\n",
    "max_mag_c= abs(diff_control[...,4]).max(axis=(1,2,3))\n",
    "max_mag_p = abs(diff_patient[...,4]).max(axis=(1,2,3))\n",
    "diff_control_t_max_vx = np.array([diff_control[i, :, :,:,max_vx_c.argmax(axis=1)[i],:] for i in range(diff_control.shape[0])])\n",
    "diff_patient_t_max_vx = np.array([diff_patient[i, :, :,:,max_vx_p.argmax(axis=1)[i],:] for i in range(diff_patient.shape[0])])\n",
    "diff_control_t_max_vy = np.array([diff_control[i, :, :,:,max_vy_c.argmax(axis=1)[i],:] for i in range(diff_control.shape[0])])\n",
    "diff_patient_t_max_vy = np.array([diff_patient[i, :, :,:,max_vy_p.argmax(axis=1)[i],:] for i in range(diff_patient.shape[0])])\n",
    "diff_control_t_max_vz = np.array([diff_control[i, :, :,:,max_vz_c.argmax(axis=1)[i],:] for i in range(diff_control.shape[0])])\n",
    "diff_patient_t_max_vz = np.array([diff_patient[i, :, :,:,max_vz_p.argmax(axis=1)[i],:] for i in range(diff_patient.shape[0])])\n",
    "diff_control_t_max_mag = np.array([diff_control[i, :, :,:,max_mag_c.argmax(axis=1)[i],:] for i in range(diff_control.shape[0])])\n",
    "diff_patient_t_max_mag = np.array([diff_patient[i, :, :,:,max_mag_p.argmax(axis=1)[i],:] for i in range(diff_patient.shape[0])])\n",
    "diff_control_t_max_vx.shape, diff_patient_t_max_vx.shape"
   ]
  },
  {
   "cell_type": "code",
   "execution_count": null,
   "metadata": {},
   "outputs": [],
   "source": [
    "#z = 0\n",
    "print('z =', z)\n",
    "fig, axes = plt.subplots(nrows=2, ncols=5, figsize=(14, 7))\n",
    "im = axes[0,0].imshow(diff_control_t_max_vx[0, z, :,:,1], vmin = -1, vmax = 1)\n",
    "im = axes[0,1].imshow(diff_control_t_max_vx[1, z, :,:,1], vmin = -1, vmax = 1)\n",
    "im = axes[0,2].imshow(diff_control_t_max_vx[2, z, :,:,1], vmin = -1, vmax = 1)\n",
    "im = axes[0,3].imshow(diff_control_t_max_vx[3, z, :,:,1], vmin = -1, vmax = 1)\n",
    "im = axes[0,4].imshow(diff_control_t_max_vx[4, z, :,:,1], vmin = -1, vmax = 1)\n",
    "im = axes[1,0].imshow(diff_patient_t_max_vx[0, z, :,:,1], vmin = -1, vmax = 1)\n",
    "im = axes[1,1].imshow(diff_patient_t_max_vx[1, z, :,:,1], vmin = -1, vmax = 1)\n",
    "im = axes[1,2].imshow(diff_patient_t_max_vx[2, z, :,:,1], vmin = -1, vmax = 1)\n",
    "im = axes[1,3].imshow(diff_patient_t_max_vx[3, z, :,:,1], vmin = -1, vmax = 1)\n",
    "im = axes[1,4].imshow(diff_patient_t_max_vx[4, z, :,:,1], vmin = -1, vmax = 1)\n",
    "\n",
    "\n",
    "z+=1\n",
    "fig.subplots_adjust(right=0.8)\n",
    "cbar_ax = fig.add_axes([0.85, 0.15, 0.05, 0.7])\n",
    "fig.colorbar(im, cax=cbar_ax)\n",
    "\n",
    "\n",
    "#plt.colorbar()\n",
    "plt.subplots_adjust(wspace=0, hspace=0)\n",
    "print('Control on top, patient on bottom')\n"
   ]
  },
  {
   "cell_type": "code",
   "execution_count": null,
   "metadata": {},
   "outputs": [],
   "source": [
    "#z = 0\n",
    "print('z =', z)\n",
    "fig, axes = plt.subplots(nrows=2, ncols=5, figsize=(14, 7))\n",
    "im = axes[0,0].imshow(diff_control_t_max_vz[0, z, :,:,3], vmin = -1, vmax = 1)\n",
    "im = axes[0,1].imshow(diff_control_t_max_vz[1, z, :,:,3], vmin = -1, vmax = 1)\n",
    "im = axes[0,2].imshow(diff_control_t_max_vz[2, z, :,:,3], vmin = -1, vmax = 1)\n",
    "im = axes[0,3].imshow(diff_control_t_max_vz[3, z, :,:,3], vmin = -1, vmax = 1)\n",
    "im = axes[0,4].imshow(diff_control_t_max_vz[4, z, :,:,3], vmin = -1, vmax = 1)\n",
    "im = axes[1,0].imshow(diff_patient_t_max_vz[0, z, :,:,3], vmin = -1, vmax = 1)\n",
    "im = axes[1,1].imshow(diff_patient_t_max_vz[1, z, :,:,3], vmin = -1, vmax = 1)\n",
    "im = axes[1,2].imshow(diff_patient_t_max_vz[2, z, :,:,3], vmin = -1, vmax = 1)\n",
    "im = axes[1,3].imshow(diff_patient_t_max_vz[3, z, :,:,3], vmin = -1, vmax = 1)\n",
    "im = axes[1,4].imshow(diff_patient_t_max_vz[4, z, :,:,3], vmin = -1, vmax = 1)\n",
    "\n",
    "\n",
    "z+=1\n",
    "fig.subplots_adjust(right=0.8)\n",
    "cbar_ax = fig.add_axes([0.85, 0.15, 0.05, 0.7])\n",
    "fig.colorbar(im, cax=cbar_ax)\n",
    "\n",
    "\n",
    "#plt.colorbar()\n",
    "plt.subplots_adjust(wspace=0, hspace=0)\n",
    "print('Control on top, patient on bottom')\n"
   ]
  },
  {
   "cell_type": "code",
   "execution_count": null,
   "metadata": {},
   "outputs": [],
   "source": [
    "#z = 0\n",
    "print('z =', z)\n",
    "fig, axes = plt.subplots(nrows=2, ncols=5, figsize=(14, 7))\n",
    "im = axes[0,0].imshow(diff_control_t_max_mag[0, z, :,:,4], vmin = -0.5, vmax = 0.5)\n",
    "im = axes[0,1].imshow(diff_control_t_max_mag[1, z, :,:,4], vmin = -0.5, vmax = 0.5)\n",
    "im = axes[0,2].imshow(diff_control_t_max_mag[2, z, :,:,4], vmin = -0.5, vmax = 0.5)\n",
    "im = axes[0,3].imshow(diff_control_t_max_mag[3, z, :,:,4], vmin = -0.5, vmax = 0.5)\n",
    "im = axes[0,4].imshow(diff_control_t_max_mag[4, z, :,:,4], vmin = -0.5, vmax = 0.5)\n",
    "im = axes[1,0].imshow(diff_patient_t_max_mag[0, z, :,:,4], vmin = -0.5, vmax = 0.5)\n",
    "im = axes[1,1].imshow(diff_patient_t_max_mag[1, z, :,:,4], vmin = -0.5, vmax = 0.5)\n",
    "im = axes[1,2].imshow(diff_patient_t_max_mag[2, z, :,:,4], vmin = -0.5, vmax = 0.5)\n",
    "im = axes[1,3].imshow(diff_patient_t_max_mag[3, z, :,:,4], vmin = -0.5, vmax = 0.5)\n",
    "im = axes[1,4].imshow(diff_patient_t_max_mag[4, z, :,:,4], vmin = -0.5, vmax = 0.5)\n",
    "\n",
    "\n",
    "z+=1\n",
    "fig.subplots_adjust(right=0.8)\n",
    "cbar_ax = fig.add_axes([0.85, 0.15, 0.05, 0.7])\n",
    "fig.colorbar(im, cax=cbar_ax)\n",
    "\n",
    "\n",
    "#plt.colorbar()\n",
    "plt.subplots_adjust(wspace=0, hspace=0)\n",
    "print('Control on top, patient on bottom')\n"
   ]
  },
  {
   "attachments": {},
   "cell_type": "markdown",
   "metadata": {},
   "source": [
    "## Case 8\n",
    "\n",
    "- Look at the standard deviations since it seems like the controls are more uniform than the patients\n",
    "1. Take t = cause that's on average where the heart beats  \n",
    "2. Take the time for each patient at which std is the highest for the magnitude velocity"
   ]
  },
  {
   "cell_type": "code",
   "execution_count": null,
   "metadata": {},
   "outputs": [],
   "source": [
    "t = 4\n",
    "control_time_constraint = control[...,t,:]\n",
    "patient_time_constraint = patient[...,t,:]\n",
    "print(control_time_constraint.shape, patient_time_constraint.shape)\n",
    "\n",
    "fig, axes = plt.subplots(nrows=2, ncols=2, figsize=(14, 7))\n",
    "ax = axes.ravel()\n",
    "fig.suptitle('Standard deviation of velocities + velocity magnitude through slices')\n",
    "for i in range(4):\n",
    "    ax[i].plot(control_time_constraint[...,i+1].std(axis=(2,3)).T, label='Controls', color = 'green');\n",
    "    ax[i].plot(patient_time_constraint[...,i+1].std(axis=(2,3)).T, label='Patients', color = 'red');\n",
    "    ax[i].set_title('Standard deviation of channel ' + str(i+1))\n"
   ]
  },
  {
   "cell_type": "code",
   "execution_count": null,
   "metadata": {},
   "outputs": [],
   "source": [
    "# Pick time index with highest velocity mangitude\n",
    "max_magnitude_control_range = abs(control[...,4]).max(axis=(1,2,3))\n",
    "max_magnitude_patient_range = abs(patient[...,4]).max(axis=(1,2,3))\n",
    "print(max_magnitude_control_range.shape, max_magnitude_patient_range.shape)\n",
    "print(max_magnitude_control_range.argmax(axis=1), max_magnitude_patient_range.argmax(axis=1))\n",
    "control_t = np.array([control[i, :, :,:,max_magnitude_control_range.argmax(axis=1)[i],:] for i in range(control.shape[0])])\n",
    "patient_t = np.array([patient[i, :, :,:,max_magnitude_patient_range.argmax(axis=1)[i],:] for i in range(patient.shape[0])])\n",
    "\n",
    "print(control_t.shape, patient_t.shape)"
   ]
  },
  {
   "cell_type": "code",
   "execution_count": null,
   "metadata": {},
   "outputs": [],
   "source": []
  },
  {
   "cell_type": "code",
   "execution_count": null,
   "metadata": {},
   "outputs": [],
   "source": [
    "fig, axes = plt.subplots(nrows=2, ncols=2, figsize=(14, 7))\n",
    "ax = axes.ravel()\n",
    "fig.suptitle('Standard deviation of velocities + velocity magnitude through slices')\n",
    "for i in range(4):\n",
    "    ax[i].plot(control_t[...,i+1].std(axis=(2,3)).T, label='Controls', color = 'green');\n",
    "    ax[i].plot(patient_t[...,i+1].std(axis=(2,3)).T, label='Patients', color = 'red');\n",
    "    ax[i].set_title('Standard deviation of channel ' + str(i+1))\n"
   ]
  },
  {
   "cell_type": "code",
   "execution_count": null,
   "metadata": {},
   "outputs": [],
   "source": []
  }
 ],
 "metadata": {
  "kernelspec": {
   "display_name": "vtk_wrap",
   "language": "python",
   "name": "python3"
  },
  "language_info": {
   "codemirror_mode": {
    "name": "ipython",
    "version": 3
   },
   "file_extension": ".py",
   "mimetype": "text/x-python",
   "name": "python",
   "nbconvert_exporter": "python",
   "pygments_lexer": "ipython3",
   "version": "3.10.14"
  },
  "orig_nbformat": 4
 },
 "nbformat": 4,
 "nbformat_minor": 2
}
